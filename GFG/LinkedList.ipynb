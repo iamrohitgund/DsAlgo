{
 "metadata": {
  "language_info": {
   "codemirror_mode": {
    "name": "ipython",
    "version": 3
   },
   "file_extension": ".py",
   "mimetype": "text/x-python",
   "name": "python",
   "nbconvert_exporter": "python",
   "pygments_lexer": "ipython3",
   "version": "3.7.3-final"
  },
  "orig_nbformat": 2,
  "kernelspec": {
   "name": "python3",
   "display_name": "Python 3.7.3 64-bit ('base': conda)",
   "metadata": {
    "interpreter": {
     "hash": "755dcdc6c0229edae11176875df8d9e9642fceccc0e87c120336ec3f6690aed2"
    }
   }
  }
 },
 "nbformat": 4,
 "nbformat_minor": 2,
 "cells": [
  {
   "cell_type": "code",
   "execution_count": 1,
   "metadata": {},
   "outputs": [
    {
     "output_type": "stream",
     "name": "stdout",
     "text": [
      "10\n20\n30\n"
     ]
    }
   ],
   "source": [
    "#LinkedList\n",
    "class Node:\n",
    "    def __init__(self,k):\n",
    "        self.key= k\n",
    "        self.next=None\n",
    "\n",
    "temp1 = Node(10)\n",
    "temp2 = Node(20)\n",
    "temp3 = Node(30)\n",
    "\n",
    "temp1.next = temp2\n",
    "temp2.next = temp3\n",
    "\n",
    "head = temp1\n",
    "print(head.key)\n",
    "print(head.next.key)\n",
    "print(head.next.next.key)\n"
   ]
  },
  {
   "cell_type": "code",
   "execution_count": 1,
   "metadata": {},
   "outputs": [
    {
     "output_type": "stream",
     "name": "stdout",
     "text": [
      "10 20 15 30 "
     ]
    }
   ],
   "source": [
    "#Traversing a link list\n",
    "class Node:\n",
    "    def __init__(self,key):\n",
    "        self.key = key\n",
    "        self.next = None\n",
    "def printList(head):\n",
    "    curr = head\n",
    "    while curr != None:\n",
    "        print(curr.key, end=\" \")\n",
    "        curr = curr.next\n",
    "\n",
    "head = Node(10)\n",
    "head.next = Node(20)\n",
    "head.next.next = Node(15)\n",
    "head.next.next.next = Node(30)\n",
    "printList(head)\n"
   ]
  },
  {
   "cell_type": "code",
   "execution_count": 3,
   "metadata": {},
   "outputs": [
    {
     "output_type": "stream",
     "name": "stdout",
     "text": [
      "3\n"
     ]
    }
   ],
   "source": [
    "#Search in link list\n",
    "class Node:\n",
    "    def __init__(self, k):\n",
    "        self.key = k\n",
    "        self.next = None\n",
    "\n",
    "\n",
    "def search(head, x):\n",
    "    pos = 1\n",
    "    curr = head\n",
    "    while curr != None:\n",
    "        if curr.key == x:\n",
    "            return pos\n",
    "        pos = pos + 1\n",
    "        curr = curr.next\n",
    "    return -1\n",
    "\n",
    "\n",
    "head = Node(10)\n",
    "head.next = Node(15)\n",
    "head.next.next = Node(20)\n",
    "head.next.next.next = Node(25)\n",
    "x = 20\n",
    "print(search(head, x))\n"
   ]
  },
  {
   "cell_type": "code",
   "execution_count": 4,
   "metadata": {},
   "outputs": [
    {
     "output_type": "stream",
     "name": "stdout",
     "text": [
      "30 20 10 "
     ]
    }
   ],
   "source": [
    "#insert at the begining\n",
    "class Node:\n",
    "    def __init__(self,key):\n",
    "        self.key = key\n",
    "        self.next = None\n",
    "\n",
    "def insertBegin(head,key):\n",
    "    temp = Node(key)\n",
    "    temp.next = head\n",
    "    return temp\n",
    "\n",
    "head = None\n",
    "head = insertBegin(head,10)\n",
    "head = insertBegin(head, 20)\n",
    "head = insertBegin(head, 30)\n",
    "\n",
    "def printlist(head):\n",
    "    curr = head\n",
    "    while curr != None:\n",
    "        print(curr.key, end=\" \")\n",
    "        curr = curr.next\n",
    "printlist(head)"
   ]
  },
  {
   "cell_type": "code",
   "execution_count": 7,
   "metadata": {},
   "outputs": [
    {
     "output_type": "stream",
     "name": "stdout",
     "text": [
      "10 20 30 "
     ]
    }
   ],
   "source": [
    "#insert at the end\n",
    "\n",
    "class Node:\n",
    "    def __init__(self,key):\n",
    "        self.key = key\n",
    "        self.next = None\n",
    "def insertEnd(head,key):\n",
    "    if head == None:\n",
    "        return Node(key)\n",
    "    curr = head\n",
    "    while curr.next != None:\n",
    "        curr = curr.next\n",
    "    curr.next = Node(key)\n",
    "    return head\n",
    "\n",
    "head=None\n",
    "head=insertEnd(head,10)\n",
    "head=insertEnd(head,20)\n",
    "head=insertEnd(head,30)\n",
    "\n",
    "\n",
    "def printList(head):\n",
    "    curr = head\n",
    "    while curr!= None:\n",
    "        print(curr.key, end=\" \")\n",
    "        curr = curr.next\n",
    "\n",
    "printList(head)\n"
   ]
  },
  {
   "cell_type": "code",
   "execution_count": 9,
   "metadata": {},
   "outputs": [
    {
     "output_type": "stream",
     "name": "stdout",
     "text": [
      "10 20 30 40 50 \n10 20 30 45 40 50 \n"
     ]
    }
   ],
   "source": [
    "#insert at any position\n",
    "\n",
    "class Node:\n",
    "    def __init__(self, k):\n",
    "        self.key = k\n",
    "        self.next = None\n",
    "\n",
    "\n",
    "def insertPos(head,data,pos):\n",
    "\n",
    "    temp = Node(data)\n",
    "\n",
    "    if pos ==1:\n",
    "        temp.next = head\n",
    "        return temp\n",
    "    curr = head\n",
    "\n",
    "    for i in range(pos-2):\n",
    "        curr = curr.next\n",
    "        if curr == None:\n",
    "            return head\n",
    "\n",
    "    temp.next = curr.next\n",
    "    curr.next = temp\n",
    "\n",
    "    return head\n",
    "\n",
    "\n",
    "def printList(head):\n",
    "    curr = head\n",
    "    while curr != None:\n",
    "        print(curr.key, end=\" \")\n",
    "        curr = curr.next\n",
    "    print()\n",
    "\n",
    "\n",
    "head = Node(10)\n",
    "head.next = Node(20)\n",
    "head.next.next = Node(30)\n",
    "head.next.next.next = Node(40)\n",
    "head.next.next.next.next = Node(50)\n",
    "\n",
    "printList(head)\n",
    "\n",
    "head = insertPos(head,45,4)\n",
    "\n",
    "printList(head)\n",
    " "
   ]
  },
  {
   "cell_type": "code",
   "execution_count": 11,
   "metadata": {},
   "outputs": [
    {
     "output_type": "stream",
     "name": "stdout",
     "text": [
      "10 20 30 40 \n20 30 40 \n"
     ]
    }
   ],
   "source": [
    "#Delete the first node from link list\n",
    "class Node:\n",
    "    def __init__(self,k):\n",
    "        self.key = k\n",
    "        self.next = None\n",
    "def delFirst(head):\n",
    "    if head == None:\n",
    "        return None\n",
    "    else:\n",
    "        return head.next\n",
    "def printList(head):\n",
    "    curr = head\n",
    "    while curr != None:\n",
    "        print(curr.key, end=\" \")\n",
    "        curr = curr.next\n",
    "    print()\n",
    "\n",
    "\n",
    "head = Node(10)\n",
    "head.next = Node(20)\n",
    "head.next.next = Node(30)\n",
    "head.next.next.next = Node(40)\n",
    "\n",
    "printList(head)\n",
    "\n",
    "head = delFirst(head)\n",
    "\n",
    "printList(head)\n"
   ]
  },
  {
   "cell_type": "code",
   "execution_count": 12,
   "metadata": {},
   "outputs": [
    {
     "output_type": "stream",
     "name": "stdout",
     "text": [
      "10 20 30 40 \n10 20 30 \n"
     ]
    }
   ],
   "source": [
    "#Delete the last node from link list\n",
    "class Node:\n",
    "    def __init__(self, k):\n",
    "        self.key = k\n",
    "        self.next = None\n",
    "\n",
    "def deleteNode(head):\n",
    "    if head == None:\n",
    "        return  None\n",
    "\n",
    "    if head.next == None:\n",
    "        return None\n",
    "\n",
    "    curr = head\n",
    "\n",
    "    while curr.next.next != None:\n",
    "        curr = curr.next\n",
    "\n",
    "    curr.next = None\n",
    "    return head\n",
    "\n",
    "\n",
    "\n",
    "def printList(head):\n",
    "    curr = head\n",
    "    while curr != None:\n",
    "        print(curr.key, end=\" \")\n",
    "        curr = curr.next\n",
    "    print()\n",
    "\n",
    "\n",
    "head = Node(10)\n",
    "head.next = Node(20)\n",
    "head.next.next = Node(30)\n",
    "head.next.next.next = Node(40)\n",
    "\n",
    "printList(head)\n",
    "\n",
    "head = deleteNode(head)\n",
    "\n",
    "printList(head)\n",
    "\n"
   ]
  },
  {
   "cell_type": "code",
   "execution_count": 13,
   "metadata": {},
   "outputs": [
    {
     "output_type": "stream",
     "name": "stdout",
     "text": [
      "10\n20\n30\n40\n\n10\n20\n30\n35\n40\n"
     ]
    }
   ],
   "source": [
    "#sorted insert in link list\n",
    "class Node:\n",
    "    def __init__(self, k):\n",
    "        self.key = k\n",
    "        self.next = None\n",
    "\n",
    "\n",
    "def sortedInsert(head, x):\n",
    "    temp = Node(x)\n",
    "\n",
    "    if head == None:\n",
    "        return temp\n",
    "    elif x < head.key:\n",
    "        temp.next = head\n",
    "        return temp\n",
    "    else:\n",
    "        curr = head\n",
    "\n",
    "        while curr.next != None and curr.next.key < x:\n",
    "            curr = curr.next\n",
    "\n",
    "        temp.next = curr.next\n",
    "        curr.next = temp\n",
    "        return head\n",
    "\n",
    "\n",
    "head = Node(10)\n",
    "head.next = Node(20)\n",
    "head.next.next = Node(30)\n",
    "head.next.next.next = Node(40)\n",
    "\n",
    "h = head\n",
    "while h != None:\n",
    "    print(h.key)\n",
    "    h = h.next\n",
    "\n",
    "print()\n",
    "\n",
    "h = sortedInsert(head, 35)\n",
    "\n",
    "h = head\n",
    "while h != None:\n",
    "    print(h.key)\n",
    "    h = h.next\n"
   ]
  },
  {
   "cell_type": "code",
   "execution_count": null,
   "metadata": {},
   "outputs": [],
   "source": []
  }
 ]
}