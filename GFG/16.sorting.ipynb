{
 "metadata": {
  "language_info": {
   "codemirror_mode": {
    "name": "ipython",
    "version": 3
   },
   "file_extension": ".py",
   "mimetype": "text/x-python",
   "name": "python",
   "nbconvert_exporter": "python",
   "pygments_lexer": "ipython3",
   "version": "3.9.2"
  },
  "orig_nbformat": 2,
  "kernelspec": {
   "name": "python392jvsc74a57bd07812ea015bdcee6f23a998adcdd2ef97c151c0c241b7b7070987d9313e41299d",
   "display_name": "Python 3.9.2 64-bit ('3.9')"
  },
  "metadata": {
   "interpreter": {
    "hash": "7812ea015bdcee6f23a998adcdd2ef97c151c0c241b7b7070987d9313e41299d"
   }
  }
 },
 "nbformat": 4,
 "nbformat_minor": 2,
 "cells": [
  {
   "source": [
    "#Sorting"
   ],
   "cell_type": "markdown",
   "metadata": {}
  },
  {
   "cell_type": "code",
   "execution_count": 7,
   "metadata": {},
   "outputs": [
    {
     "output_type": "stream",
     "name": "stdout",
     "text": [
      "Sorted list --> [5, 8, 10, 20]\n"
     ]
    }
   ],
   "source": [
    "#Bubble Sort -- Complexity O(n^2)\n",
    "\n",
    "def bubbleSort(l):\n",
    "    n = len(l)\n",
    "\n",
    "    for i in range(n-1):\n",
    "        for j in range(n-i-1):\n",
    "            if l[j] > l[j + 1]:\n",
    "                l[j],l[j + 1] = l[j + 1], l[j]\n",
    "\n",
    "l = [10,8,20,5]\n",
    "bubbleSort(l)\n",
    "print(\"Sorted list\",\"-->\",l)\n"
   ]
  },
  {
   "cell_type": "code",
   "execution_count": 8,
   "metadata": {},
   "outputs": [
    {
     "output_type": "stream",
     "name": "stdout",
     "text": [
      "Sorted list is  --> [5, 8, 10, 20]\n"
     ]
    }
   ],
   "source": [
    "def bubbleSort(l):\n",
    "    n = len(l)\n",
    "    for i in range(n-1):\n",
    "        swapped = False\n",
    "        for j in range(n-i-1):\n",
    "            if l[j] > l[j + 1]:\n",
    "                l[j],l[j + 1] = l[j + 1], l[j]\n",
    "                swapped = True\n",
    "        if swapped == False:\n",
    "            return\n",
    "\n",
    "l = [10,8,20,5]\n",
    "bubbleSort(l)\n",
    "\n",
    "print(\"Sorted list is \", \"-->\",l)"
   ]
  },
  {
   "cell_type": "code",
   "execution_count": 9,
   "metadata": {},
   "outputs": [
    {
     "output_type": "stream",
     "name": "stdout",
     "text": [
      "Sorted list is  --> [2, 8, 5, 18, 10, 20]\n"
     ]
    }
   ],
   "source": [
    "#Selection Sort -- O(n^2)\n",
    "\n",
    "def selectionSort(l):\n",
    "    n = len(l)\n",
    "    for i in range(n-1):\n",
    "        min_ind = i\n",
    "        for j in range(i+1,n):\n",
    "            if l[j] < l[min_ind]:\n",
    "                min_ind = j\n",
    "                l[min_ind],l[i] = l[i], l[min_ind]\n",
    "l = [10,5,8,20,2,18]\n",
    "selectionSort(l)\n",
    "print(\"Sorted list is \", \"-->\",l)"
   ]
  },
  {
   "cell_type": "code",
   "execution_count": 20,
   "metadata": {},
   "outputs": [
    {
     "output_type": "stream",
     "name": "stdout",
     "text": [
      "Sorted array is --> [5, 10, 20, 30, 40, 60]\n"
     ]
    }
   ],
   "source": [
    "#insertion sort .. worst case O(n^2) and best case when list is already sorted O(n) \n",
    "\n",
    "def insertionSort(l):\n",
    "    for i in range(1,len(l)):\n",
    "        x = l[i] \n",
    "        j = i - 1\n",
    "        while j >= 0 and x< l[j]:\n",
    "            l[j+1] = l[j]\n",
    "            j = j - 1\n",
    "        l[j + 1] = x #insert the element at j + 1 place after loop end\n",
    "l = [20,5,40,60,10,30]\n",
    "insertionSort(l)\n",
    "print(\"Sorted array is\", \"-->\",l)\n"
   ]
  },
  {
   "cell_type": "code",
   "execution_count": 23,
   "metadata": {},
   "outputs": [
    {
     "output_type": "stream",
     "name": "stdout",
     "text": [
      "[5, 6, 6, 10, 15, 30, 40]\n"
     ]
    }
   ],
   "source": [
    "#Merge Two sorted arrays -- O(m + n)\n",
    "def merge(a,b):\n",
    "    res = []\n",
    "    m = len(a)\n",
    "    n = len(b)\n",
    "    i = 0\n",
    "    j = 0\n",
    "    while i < m and j < n:\n",
    "        if a[i] < b[j]:\n",
    "            res.append(a[i])\n",
    "            i += 1\n",
    "        else:\n",
    "            res.append(b[j])\n",
    "            j += 1\n",
    "    while i < m:\n",
    "        res.append(a[i])\n",
    "        i += 1\n",
    "    while j < n:\n",
    "        res.append(b[j])\n",
    "        j += 1\n",
    "    return res\n",
    "\n",
    "a = [10, 15]\n",
    "b = [5, 6, 6, 30, 40]\n",
    "\n",
    "print(merge(a, b))\n",
    "    "
   ]
  },
  {
   "cell_type": "code",
   "execution_count": 36,
   "metadata": {},
   "outputs": [
    {
     "output_type": "stream",
     "name": "stdout",
     "text": [
      "8 10 11 15 20 40 55\n"
     ]
    }
   ],
   "source": [
    "def merge(a, low, mid, high):\n",
    "    left = a[low:mid + 1]\n",
    "    right = a[mid + 1:high + 1]\n",
    "\n",
    "    i = j = 0\n",
    "    k = low\n",
    "\n",
    "    while i < len(left) and j < len(right):\n",
    "\n",
    "        if left[i] < right[j]:\n",
    "            a[k] = left[i]\n",
    "\n",
    "            k += 1\n",
    "            i += 1\n",
    "        else:\n",
    "            a[k] = right[j]\n",
    "            k += 1\n",
    "            j += 1\n",
    "\n",
    "    while i < len(left):\n",
    "        a[k] = left[i]\n",
    "        i += 1\n",
    "        k += 1\n",
    "\n",
    "    while j < len(right):\n",
    "        a[k] = right[j]\n",
    "        j += 1\n",
    "        k += 1\n",
    "\n",
    "\n",
    "a = [10, 15, 20, 40, 8, 11, 55]\n",
    "\n",
    "merge(a, 0, 3, 6)\n",
    "\n",
    "print(*a)\n"
   ]
  },
  {
   "cell_type": "code",
   "execution_count": 37,
   "metadata": {},
   "outputs": [
    {
     "output_type": "stream",
     "name": "stdout",
     "text": [
      "5 7 10 15 30\n"
     ]
    }
   ],
   "source": [
    "#merge sort \n",
    "def merge(a, low, mid, high):\n",
    "    left = a[low:mid + 1]\n",
    "    right = a[mid + 1:high + 1]\n",
    "\n",
    "    i = j = 0\n",
    "    k = low\n",
    "\n",
    "    while i < len(left) and j < len(right):\n",
    "\n",
    "        if left[i] < right[j]:\n",
    "            a[k] = left[i]\n",
    "\n",
    "            k += 1\n",
    "            i += 1\n",
    "        else:\n",
    "            a[k] = right[j]\n",
    "            k += 1\n",
    "            j += 1\n",
    "\n",
    "    while i < len(left):\n",
    "        a[k] = left[i]\n",
    "        i += 1\n",
    "        k += 1\n",
    "\n",
    "    while j < len(right):\n",
    "        a[k] = right[j]\n",
    "        j += 1\n",
    "        k += 1\n",
    "\n",
    "\n",
    "def mergeSort(arr, l, r):\n",
    "    if r > l:\n",
    "        m = (r + l) // 2\n",
    "        mergeSort(arr, l, m)\n",
    "        mergeSort(arr, m + 1, r)\n",
    "        merge(arr, l, m, r)\n",
    "\n",
    "\n",
    "arr = [10, 5, 30, 15, 7]\n",
    "\n",
    "mergeSort(arr, 0, 4)\n",
    "print(*arr)\n"
   ]
  },
  {
   "cell_type": "code",
   "execution_count": 1,
   "metadata": {},
   "outputs": [
    {
     "output_type": "stream",
     "name": "stdout",
     "text": [
      "5 6 8 13 9 12 11\n"
     ]
    }
   ],
   "source": [
    "#Partition A Given Array\n",
    "\n",
    "def partition(arr, p):\n",
    "    n = len(arr)\n",
    "    arr[p], arr[n - 1] = arr[n - 1], arr[p]\n",
    "\n",
    "    temp = []\n",
    "\n",
    "    for x in arr:\n",
    "        if x <= arr[n - 1]:\n",
    "            temp.append(x)\n",
    "\n",
    "    for x in arr:\n",
    "        if x > arr[n - 1]:\n",
    "            temp.append(x)\n",
    "\n",
    "    for i in range(len(arr)):\n",
    "        arr[i] = temp[i]\n",
    "\n",
    "\n",
    "arr = [5, 13, 6, 9, 12, 8, 11]\n",
    "\n",
    "partition(arr, 5)\n",
    "\n",
    "print(*arr)\n"
   ]
  },
  {
   "cell_type": "code",
   "execution_count": 2,
   "metadata": {},
   "outputs": [
    {
     "output_type": "stream",
     "name": "stdout",
     "text": [
      "10 30 50 70 80 90\n"
     ]
    }
   ],
   "source": [
    "#Lomuto Partition \n",
    "\n",
    "def lomutoPartition(arr, l, h):\n",
    "    pivot = arr[h]\n",
    "    i = l - 1\n",
    "\n",
    "    for j in range(l, h):\n",
    "        if arr[j] <= pivot:\n",
    "            i = i + 1\n",
    "            arr[i], arr[j] = arr[j], arr[i]\n",
    "\n",
    "    arr[i + 1], arr[h] = arr[h], arr[i + 1]\n",
    "\n",
    "    return i + 1\n",
    "\n",
    "\n",
    "arr = [10, 80, 30, 90, 50, 70]\n",
    "\n",
    "lomutoPartition(arr, 0, 5)\n",
    "\n",
    "print(*arr)\n"
   ]
  },
  {
   "cell_type": "code",
   "execution_count": 3,
   "metadata": {},
   "outputs": [
    {
     "output_type": "stream",
     "name": "stdout",
     "text": [
      "3 4 5 7 8 9 10\n"
     ]
    }
   ],
   "source": [
    "#Quick Ssort using Lomuto Partition \n",
    "\n",
    "def lomutoPartition(arr, l, h):\n",
    "    pivot = arr[h]\n",
    "    i = l - 1\n",
    "\n",
    "    for j in range(l, h):\n",
    "        if arr[j] <= pivot:  # error\n",
    "            i = i + 1\n",
    "            arr[i], arr[j] = arr[j], arr[i]\n",
    "\n",
    "    arr[i + 1], arr[h] = arr[h], arr[i + 1]\n",
    "\n",
    "    return i + 1\n",
    "\n",
    "\n",
    "def qSort(arr, l, h):\n",
    "    if l < h:\n",
    "        p = lomutoPartition(arr, l, h)\n",
    "        qSort(arr, l, p - 1)\n",
    "        qSort(arr, p + 1, h)\n",
    "\n",
    "\n",
    "arr = [8, 4, 7, 9, 3, 10, 5]\n",
    "\n",
    "qSort(arr, 0, 6)\n",
    "\n",
    "print(*arr)\n"
   ]
  },
  {
   "cell_type": "code",
   "execution_count": 4,
   "metadata": {},
   "outputs": [
    {
     "output_type": "stream",
     "name": "stdout",
     "text": [
      "3 4 5 7 8 9 10\n"
     ]
    }
   ],
   "source": [
    "#Quick Sort using Hoare's Partition \n",
    "\n",
    "def hoarsePartition(arr, l, h):\n",
    "    pivot = arr[l]\n",
    "\n",
    "    i = l - 1\n",
    "    j = h + 1\n",
    "\n",
    "    while True:\n",
    "\n",
    "        i = i + 1\n",
    "        while arr[i] < pivot:\n",
    "            i = i + 1\n",
    "\n",
    "        j = j - 1\n",
    "        while arr[j] > pivot:\n",
    "            j = j - 1\n",
    "\n",
    "        if i >= j:\n",
    "            return j\n",
    "\n",
    "        arr[i], arr[j] = arr[j], arr[i]\n",
    "\n",
    "\n",
    "def qSort(arr, l, h):\n",
    "    if l < h:\n",
    "        p = hoarsePartition(arr, l, h)\n",
    "        qSort(arr, l, p)\n",
    "        qSort(arr, p + 1, h)\n",
    "\n",
    "\n",
    "arr = [8, 4, 7, 9, 3, 10, 5]\n",
    "\n",
    "qSort(arr, 0, 6)\n",
    "\n",
    "print(*arr)\n"
   ]
  },
  {
   "cell_type": "code",
   "execution_count": 5,
   "metadata": {},
   "outputs": [
    {
     "output_type": "stream",
     "name": "stdout",
     "text": [
      "3 4 5 7 8 9 10\n"
     ]
    }
   ],
   "source": [
    "#Tail Call Elimination in Quick Sort\n",
    "\n",
    "def hoarsePartition(arr, l, h):\n",
    "    pivot = arr[l]\n",
    "\n",
    "    i = l - 1\n",
    "    j = h + 1\n",
    "\n",
    "    while True:\n",
    "\n",
    "        i = i + 1\n",
    "        while arr[i] < pivot:\n",
    "            i = i + 1\n",
    "\n",
    "        j = j - 1\n",
    "        while arr[j] > pivot:\n",
    "            j = j - 1\n",
    "\n",
    "        if i >= j:\n",
    "            return j\n",
    "\n",
    "        arr[i], arr[j] = arr[j], arr[i]\n",
    "\n",
    "\n",
    "def qSort(arr, l, h):\n",
    "    while l < h:\n",
    "        p = hoarsePartition(arr, l, h)\n",
    "        qSort(arr, l, p)\n",
    "        l = p + 1\n",
    "\n",
    "\n",
    "arr = [8, 4, 7, 9, 3, 10, 5]\n",
    "\n",
    "qSort(arr, 0, 6)\n",
    "\n",
    "print(*arr)\n"
   ]
  },
  {
   "cell_type": "code",
   "execution_count": 6,
   "metadata": {},
   "outputs": [],
   "source": [
    "#List Sort in Python"
   ]
  },
  {
   "cell_type": "code",
   "execution_count": 7,
   "metadata": {},
   "outputs": [
    {
     "output_type": "stream",
     "name": "stdout",
     "text": [
      "[1, 5, 10, 15]\n[10, 5, 3, 1]\n['courses', 'gfg', 'ide']\n['gfg', 'python', 'courses']\n['courses', 'python', 'gfg']\n"
     ]
    }
   ],
   "source": [
    "#list\n",
    "\n",
    "l1 = [5, 10, 15, 1]\n",
    "l1.sort()\n",
    "print(l1)\n",
    "\n",
    "l2 = [1, 5, 3, 10]\n",
    "l2.sort(reverse=True)\n",
    "print(l2)\n",
    "\n",
    "l3 = ['gfg', 'ide', 'courses']\n",
    "l3.sort()\n",
    "print(l3)\n",
    "\n",
    "\n",
    "def myFun(s):\n",
    "    return len(s)\n",
    "\n",
    "\n",
    "l = ['gfg', 'courses', 'python']\n",
    "l.sort(key=myFun)\n",
    "print(l)\n",
    "\n",
    "l.sort(key=myFun, reverse=True)\n",
    "print(l)\n"
   ]
  },
  {
   "cell_type": "code",
   "execution_count": 8,
   "metadata": {},
   "outputs": [
    {
     "output_type": "stream",
     "name": "stdout",
     "text": [
      "1 15\n3 8\n10 5\n"
     ]
    }
   ],
   "source": [
    "#Sorting user defined using key-fun \n",
    "\n",
    "class Point:\n",
    "\n",
    "    def __init__(self, x, y):\n",
    "        self.x = x\n",
    "        self.y = y\n",
    "\n",
    "\n",
    "def myFun(p):\n",
    "    return p.x\n",
    "\n",
    "\n",
    "l = [Point(1, 15), Point(10, 5), Point(3, 8)]\n",
    "l.sort(key=myFun)\n",
    "\n",
    "for i in l:\n",
    "    print(i.x, i.y)\n"
   ]
  },
  {
   "cell_type": "code",
   "execution_count": 9,
   "metadata": {},
   "outputs": [
    {
     "output_type": "stream",
     "name": "stdout",
     "text": [
      "1 15\n5 8\n10 5\n"
     ]
    }
   ],
   "source": [
    "#Sorting user defined using __lt__ 1 \n",
    "\n",
    "class Point:\n",
    "\n",
    "    def __init__(self, x, y):\n",
    "        self.x = x\n",
    "        self.y = y\n",
    "\n",
    "    def __lt__(self, other):\n",
    "        return self.x < other.x\n",
    "\n",
    "\n",
    "l = [Point(1, 15), Point(10, 5), Point(5, 8)]\n",
    "l.sort()\n",
    "\n",
    "for i in l:\n",
    "    print(i.x, i.y)\n"
   ]
  },
  {
   "cell_type": "code",
   "execution_count": 10,
   "metadata": {},
   "outputs": [
    {
     "output_type": "stream",
     "name": "stdout",
     "text": [
      "1 8\n1 15\n10 5\n"
     ]
    }
   ],
   "source": [
    "#Sorting user defined using __lt__ 2 \n",
    "\n",
    "class Point:\n",
    "\n",
    "    def __init__(self, x, y):\n",
    "        self.x = x\n",
    "        self.y = y\n",
    "\n",
    "    def __lt__(self, other):\n",
    "\n",
    "        if self.x == other.x:\n",
    "            return self.y < other.y\n",
    "        else:\n",
    "            return self.x < other.x\n",
    "\n",
    "\n",
    "l = [Point(1, 15), Point(10, 5), Point(1, 8)]\n",
    "l.sort()\n",
    "\n",
    "for i in l:\n",
    "    print(i.x, i.y)\n"
   ]
  },
  {
   "cell_type": "code",
   "execution_count": 13,
   "metadata": {},
   "outputs": [
    {
     "output_type": "stream",
     "name": "stdout",
     "text": [
      "[10, 20, 14]\n[10, 14, 20]\n[-15, 10, -2, 1]\n_____\n[1, 5, 10, 12]\n['courses', 'gfg', 'python']\n['f', 'g', 'g']\n[5, 10, 15]\n[(1, 8), (2, 3), (10, 15)]\n"
     ]
    }
   ],
   "source": [
    "#Sorted in Python \n",
    "\n",
    "l = [10, 20, 14]\n",
    "ls = sorted(l)\n",
    "\n",
    "print(l)\n",
    "print(ls)\n",
    "\n",
    "l = [10, -15, -2, 1]\n",
    "ls = sorted(l, key=abs, reverse=True)\n",
    "print(ls)\n",
    "\n",
    "\n",
    "\n",
    "print(\"_____\")\n",
    "\n",
    "\n",
    "t = (10,12,5,1)\n",
    "print(sorted(t))\n",
    "\n",
    "s = {'gfg','courses','python'}\n",
    "print(sorted(s))\n",
    "\n",
    "st = 'gfg'\n",
    "print(sorted(st))\n",
    "\n",
    "d = {10:'gfg',15:'ide',5:'courses'}\n",
    "print(sorted(d))\n",
    "\n",
    "l = [(10,15),(1,8),(2,3)]\n",
    "print(sorted(l))"
   ]
  },
  {
   "cell_type": "code",
   "execution_count": null,
   "metadata": {},
   "outputs": [],
   "source": []
  },
  {
   "cell_type": "code",
   "execution_count": null,
   "metadata": {},
   "outputs": [],
   "source": []
  }
 ]
}