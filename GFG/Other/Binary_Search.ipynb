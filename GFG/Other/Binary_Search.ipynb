{
 "metadata": {
  "language_info": {
   "codemirror_mode": {
    "name": "ipython",
    "version": 3
   },
   "file_extension": ".py",
   "mimetype": "text/x-python",
   "name": "python",
   "nbconvert_exporter": "python",
   "pygments_lexer": "ipython3",
   "version": "3.7.3"
  },
  "orig_nbformat": 2,
  "kernelspec": {
   "name": "python3",
   "display_name": "Python 3.7.3 64-bit ('base': conda)",
   "metadata": {
    "interpreter": {
     "hash": "755dcdc6c0229edae11176875df8d9e9642fceccc0e87c120336ec3f6690aed2"
    }
   }
  }
 },
 "nbformat": 4,
 "nbformat_minor": 2,
 "cells": [
  {
   "source": [
    "#Binary Search"
   ],
   "cell_type": "markdown",
   "metadata": {}
  },
  {
   "cell_type": "code",
   "execution_count": 3,
   "metadata": {},
   "outputs": [
    {
     "output_type": "stream",
     "name": "stdout",
     "text": [
      "[10, 20, 30, 40, 50, 60]\n30 2\n20 1\n10 0\n60 5\n40 3\n55 -1\n-50 -1\n"
     ]
    }
   ],
   "source": [
    "def bSearch(l, x):\n",
    "    low = 0\n",
    "    high = len(l) - 1\n",
    "\n",
    "    while low <= high:\n",
    "\n",
    "        mid = (low + high) // 2\n",
    "        if l[mid] == x:\n",
    "            return mid\n",
    "        elif l[mid] < x:\n",
    "            low = mid + 1\n",
    "\n",
    "        else:\n",
    "            high = mid - 1\n",
    "\n",
    "    return -1\n",
    "\n",
    "\n",
    "l = [10, 20, 30, 40, 50, 60]\n",
    "print(l)\n",
    "print(30, bSearch(l, 30))\n",
    "print(20, bSearch(l, 20))\n",
    "print(10, bSearch(l, 10))\n",
    "print(60, bSearch(l, 60))\n",
    "print(40, bSearch(l, 40))\n",
    "print(55, bSearch(l, 55))\n",
    "print(-50, bSearch(l, -50))\n"
   ]
  },
  {
   "cell_type": "code",
   "execution_count": 4,
   "metadata": {},
   "outputs": [],
   "source": [
    "#Recursive Binary Search"
   ]
  },
  {
   "cell_type": "code",
   "execution_count": 5,
   "metadata": {},
   "outputs": [
    {
     "output_type": "stream",
     "name": "stdout",
     "text": [
      "30 2\n20 1\n10 0\n60 5\n40 3\n55 -1\n-50 -1\n"
     ]
    }
   ],
   "source": [
    "def bSearch(l, x, low, high):\n",
    "    if low > high:\n",
    "        return -1\n",
    "\n",
    "    mid = (low + high) // 2\n",
    "    if l[mid] == x:\n",
    "        return mid\n",
    "\n",
    "    elif l[mid] > x:\n",
    "        return bSearch(l, x, low, mid - 1)\n",
    "\n",
    "    else:\n",
    "        return bSearch(l, x, mid + 1, high)\n",
    "\n",
    "\n",
    "def bSearchMain(l, x):\n",
    "    return bSearch(l, x, 0, len(l) - 1)\n",
    "\n",
    "\n",
    "l = [10, 20, 30, 40, 50, 60]\n",
    "\n",
    "print(30, bSearchMain(l, 30))\n",
    "print(20, bSearchMain(l, 20))\n",
    "print(10, bSearchMain(l, 10))\n",
    "print(60, bSearchMain(l, 60))\n",
    "print(40, bSearchMain(l, 40))\n",
    "print(55, bSearchMain(l, 55))\n",
    "print(-50, bSearchMain(l, -50))\n"
   ]
  },
  {
   "source": [
    "#Index of First Occurrence"
   ],
   "cell_type": "markdown",
   "metadata": {}
  },
  {
   "cell_type": "code",
   "execution_count": 13,
   "metadata": {},
   "outputs": [
    {
     "output_type": "stream",
     "name": "stdout",
     "text": [
      "20 3\n"
     ]
    }
   ],
   "source": [
    "#Solution 1: Naive Solution --> O(n)\n",
    "\n",
    "def firstIndex(l,x):\n",
    "    for i in range(len(l)):\n",
    "        if l[i]==x:\n",
    "            return i\n",
    "    return -1\n",
    "\n",
    "l = [10,10,10,20,20,20,30,40]\n",
    "print(20, firstIndex(l,20))\n",
    "\n"
   ]
  },
  {
   "cell_type": "code",
   "execution_count": 15,
   "metadata": {},
   "outputs": [],
   "source": [
    "#Solution 2: Binary Search Optimum soltionn for o(logn)"
   ]
  },
  {
   "cell_type": "code",
   "execution_count": 17,
   "metadata": {},
   "outputs": [
    {
     "output_type": "stream",
     "name": "stdout",
     "text": [
      "10 2\n20 -1\n"
     ]
    }
   ],
   "source": [
    "def firstIndex(l,x):\n",
    "    low = 0\n",
    "    high = len(l)-1\n",
    "\n",
    "    while low <= high:\n",
    "        mid = (low + high) //2\n",
    "        if l[mid] < x:\n",
    "            low = mid + 1\n",
    "        elif l[mid] > x:\n",
    "            high = mid - 1\n",
    "        else:\n",
    "            if mid == 0 or l[mid - 1] == l[mid]:\n",
    "                return mid\n",
    "            else:\n",
    "                high = mid - 1\n",
    "    return -1\n",
    "\n",
    "l = [5, 10, 10, 20, 20]\n",
    "\n",
    "print(10, firstIndex(l, 10))\n",
    "print(20, firstIndex(l, 20))\n"
   ]
  },
  {
   "source": [
    "#Index of last occurance "
   ],
   "cell_type": "markdown",
   "metadata": {}
  },
  {
   "cell_type": "code",
   "execution_count": 20,
   "metadata": {},
   "outputs": [
    {
     "output_type": "stream",
     "name": "stdout",
     "text": [
      "20 --> 3\n40 --> 5\n"
     ]
    }
   ],
   "source": [
    "#Naive Soltion Big O(n)\n",
    "\n",
    "def lastOccur(l,x):\n",
    "    for i in reversed(range(len(l))):\n",
    "        if l[i] == x:\n",
    "            return i\n",
    "    return -1\n",
    "\n",
    "\n",
    "l = [10,15,20,20,40,40]\n",
    "\n",
    "print(\"20 -->\",lastOccur(l, 20))\n",
    "print(\"40 -->\",lastOccur(l, 40))\n"
   ]
  },
  {
   "cell_type": "code",
   "execution_count": 24,
   "metadata": {},
   "outputs": [
    {
     "output_type": "stream",
     "name": "stdout",
     "text": [
      "10 4\n20 6\n25 -1\n"
     ]
    }
   ],
   "source": [
    "#Efficient Solution Big O( log n)\n",
    "def lastOccur(l, x):\n",
    "    low = 0\n",
    "    high = len(l) - 1\n",
    "\n",
    "    while low <= high:\n",
    "        mid = (low + high ) // 2\n",
    "        if l[mid] < x:\n",
    "            low = mid + 1\n",
    "        elif l[mid] > x:\n",
    "            high = mid -1\n",
    "        else:\n",
    "            if mid == len(l) - 1 or l[mid] != l[mid+1]:\n",
    "                return mid\n",
    "            else:\n",
    "                low = mid + 1\n",
    "\n",
    "    return -1\n",
    "\n",
    "\n",
    "l = [5, 10, 10, 10, 10, 20, 20]\n",
    "\n",
    "print(10,lastOccur(l, 10))\n",
    "print(20,lastOccur(l, 20))\n",
    "print(25,lastOccur(l, 25))\n",
    "\n"
   ]
  },
  {
   "source": [
    "#Count occurances in sorted array"
   ],
   "cell_type": "markdown",
   "metadata": {}
  },
  {
   "cell_type": "code",
   "execution_count": 26,
   "metadata": {},
   "outputs": [
    {
     "output_type": "stream",
     "name": "stdout",
     "text": [
      "10 1\n20 3\n30 2\n25 0\n"
     ]
    }
   ],
   "source": [
    "#Naive Soltion\n",
    "def countOccurr(l,x):\n",
    "    cnt = 0\n",
    "\n",
    "    for e in l:\n",
    "        if e==x:\n",
    "            cnt+=1\n",
    "\n",
    "    return cnt\n",
    "\n",
    "l = [10,20,20,20,30,30]\n",
    "\n",
    "print(10,countOccurr(l, 10))\n",
    "print(20,countOccurr(l, 20))\n",
    "print(30,countOccurr(l, 30))\n",
    "print(25,countOccurr(l, 25))"
   ]
  },
  {
   "cell_type": "code",
   "execution_count": null,
   "metadata": {},
   "outputs": [],
   "source": [
    "#Optimized\n",
    "\n",
    "def firstIndex(l, x):\n",
    "    low = 0\n",
    "\n",
    "    high = len(l) - 1\n",
    "\n",
    "    while low <= high:\n",
    "\n",
    "        mid = (low + high) // 2\n",
    "\n",
    "        if l[mid] > x:\n",
    "            high = mid - 1\n",
    "        elif l[mid] < x:\n",
    "            low = mid + 1\n",
    "\n",
    "        else:\n",
    "            if mid == 0 or l[mid - 1] != l[mid]:\n",
    "                return mid\n",
    "            else:\n",
    "                high = mid - 1\n",
    "    return -1\n",
    "\n",
    "\n",
    "def lastOccur(l, x):\n",
    "    low = 0\n",
    "    high = len(l) - 1\n",
    "\n",
    "    while low <= high:\n",
    "\n",
    "        mid = (low + high) // 2\n",
    "\n",
    "        if l[mid] < x:\n",
    "            low = mid + 1\n",
    "\n",
    "        elif l[mid] > x:\n",
    "            high = mid - 1\n",
    "\n",
    "        else:\n",
    "\n",
    "            if mid == len(l) - 1 or l[mid] != l[mid + 1]:\n",
    "                return mid\n",
    "            else:\n",
    "                low = mid + 1\n",
    "    return -1\n",
    "\n",
    "\n",
    "def countOccurr(l, x):\n",
    "    first = firstIndex(l, x)\n",
    "\n",
    "    if first == -1:\n",
    "        return 0\n",
    "\n",
    "    else:\n",
    "        return lastOccur(l, x) - first + 1\n",
    "\n",
    "\n",
    "l = [10, 20, 20, 20, 30, 30]\n",
    "\n",
    "print(10, countOccurr(l, 10))\n",
    "print(20, countOccurr(l, 20))\n",
    "print(30, countOccurr(l, 30))\n",
    "print(25, countOccurr(l, 25))\n"
   ]
  }
 ]
}