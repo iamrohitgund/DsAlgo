{
 "metadata": {
  "language_info": {
   "codemirror_mode": {
    "name": "ipython",
    "version": 3
   },
   "file_extension": ".py",
   "mimetype": "text/x-python",
   "name": "python",
   "nbconvert_exporter": "python",
   "pygments_lexer": "ipython3",
   "version": "3.9.2-final"
  },
  "orig_nbformat": 2,
  "kernelspec": {
   "name": "python3",
   "display_name": "Python 3.9.2 64-bit",
   "metadata": {
    "interpreter": {
     "hash": "7812ea015bdcee6f23a998adcdd2ef97c151c0c241b7b7070987d9313e41299d"
    }
   }
  }
 },
 "nbformat": 4,
 "nbformat_minor": 2,
 "cells": [
  {
   "cell_type": "code",
   "execution_count": 2,
   "metadata": {},
   "outputs": [
    {
     "output_type": "stream",
     "name": "stdout",
     "text": [
      "deque([40, 10, 20, 30])\n30\n40\ndeque([10, 20])\n"
     ]
    }
   ],
   "source": [
    "#Deque\n",
    "#Problem 1 using deque  \n",
    "from _collections import deque\n",
    "d=deque()\n",
    "d.append(10)\n",
    "d.append(20)\n",
    "d.append(30)\n",
    "d.appendleft(40)\n",
    "print(d)\n",
    "print(d.pop())\n",
    "print(d.popleft())\n",
    "print(d)\n"
   ]
  },
  {
   "cell_type": "code",
   "execution_count": 3,
   "metadata": {},
   "outputs": [
    {
     "output_type": "stream",
     "name": "stdout",
     "text": [
      "2\ndeque([20, 10, 30, 40])\ndeque([20, 10, 30, 40, 50, 60])\ndeque([20, 10, 30, 40, 50, 60, 15, 25])\n"
     ]
    }
   ],
   "source": [
    "#Problem 2 using a List \n",
    "from _collections import deque\n",
    "d=deque([10,20,30,40])\n",
    "d.insert(2,10)\n",
    "print(d.count(10))\n",
    "d.remove(10)\n",
    "print(d)\n",
    "d.extend([50,60])\n",
    "print(d)\n",
    "d.extend([15,25])\n",
    "print(d)\n"
   ]
  },
  {
   "cell_type": "code",
   "execution_count": 4,
   "metadata": {},
   "outputs": [
    {
     "output_type": "stream",
     "name": "stdout",
     "text": [
      "deque([40, 50, 10, 20, 30])\ndeque([10, 20, 30, 40, 50])\ndeque([50, 40, 30, 20, 10])\n"
     ]
    }
   ],
   "source": [
    "#Problem using list (doing rotation ) \n",
    "from _collections import deque\n",
    "d=deque([10,20,30,40,50])\n",
    "d.rotate(2)\n",
    "print(d)\n",
    "d.rotate(-2)\n",
    "print(d)\n",
    "d.reverse()\n",
    "print(d)\n"
   ]
  },
  {
   "cell_type": "code",
   "execution_count": 5,
   "metadata": {},
   "outputs": [
    {
     "output_type": "stream",
     "name": "stdout",
     "text": [
      "30\ndeque([10, 20, 100, 40, 50])\n10\n50\n"
     ]
    }
   ],
   "source": [
    "#Problem 4 (index, access the index) \n",
    "from _collections import deque\n",
    "d=deque([10,20,30,40,50])\n",
    "print(d[2])\n",
    "d[2]=100\n",
    "print(d)\n",
    "print(d[0])\n",
    "print(d[-1])"
   ]
  },
  {
   "cell_type": "code",
   "execution_count": 6,
   "metadata": {},
   "outputs": [
    {
     "output_type": "stream",
     "name": "stdout",
     "text": [
      "deque([10])\ndeque([5, 10])\ndeque([5, 10, 20])\ndeque([3, 5, 10, 20])\n3\ndeque([5, 10, 20])\n20\ndeque([5, 10])\n5\n10\ndeque([5, 10])\n"
     ]
    }
   ],
   "source": [
    "#Design A data structure with min/max operations\n",
    "from collections import deque\n",
    "\n",
    "\n",
    "class MyDs:\n",
    "    def __init__(self):\n",
    "        self.dq = deque()\n",
    "\n",
    "    def insertMin(self, x):\n",
    "        self.dq.appendleft(x)\n",
    "\n",
    "    def insertMax(self, x):\n",
    "        self.dq.append(x)\n",
    "\n",
    "    def extractMin(self):\n",
    "        return self.dq.popleft()\n",
    "\n",
    "    def extractMax(self):\n",
    "        return self.dq.pop()\n",
    "\n",
    "    def getMin(self):\n",
    "        return self.dq[0]\n",
    "\n",
    "    def getMax(self):\n",
    "        return self.dq[-1]\n",
    "\n",
    "    def printds(self):\n",
    "        print(self.dq)\n",
    "\n",
    "\n",
    "d = MyDs()\n",
    "d.insertMin(10)\n",
    "d.printds()\n",
    "d.insertMin(5)\n",
    "d.printds()\n",
    "d.insertMax(20)\n",
    "d.printds()\n",
    "d.insertMin(3)\n",
    "d.printds()\n",
    "print(d.extractMin())\n",
    "d.printds()\n",
    "print(d.extractMax())\n",
    "d.printds()\n",
    "print(d.getMin())\n",
    "print(d.getMax())\n",
    "d.printds()\n"
   ]
  },
  {
   "cell_type": "code",
   "execution_count": 7,
   "metadata": {},
   "outputs": [
    {
     "output_type": "stream",
     "name": "stdout",
     "text": [
      "True\n10 10\n10 20\n10 30\n20 30\n"
     ]
    }
   ],
   "source": [
    "#Linked List Implementation of Deque\n",
    "class Node:\n",
    "    def __init__(self, k):\n",
    "        self.key = k\n",
    "        self.next = None\n",
    "        self.prev = None\n",
    "\n",
    "\n",
    "class MyDeque:\n",
    "    def __init__(self, c):\n",
    "        self.front = None\n",
    "        self.rear = None\n",
    "        self.sz = 0\n",
    "\n",
    "    def size(self):\n",
    "        return self.sz\n",
    "\n",
    "    def isEmpty(self):\n",
    "        return self.sz == 0\n",
    "\n",
    "    def insertRear(self, x):\n",
    "        temp = Node(x)\n",
    "        if self.rear == None:\n",
    "            self.front = temp\n",
    "        else:\n",
    "            self.rear.next = temp\n",
    "            temp.prev = self.rear\n",
    "        self.rear = temp\n",
    "        self.sz = self.sz + 1\n",
    "\n",
    "    def deletfront(self):\n",
    "        if self.front == None:\n",
    "            return None\n",
    "        else:\n",
    "            res = self.front.key\n",
    "            self.front = self.front.next\n",
    "            if self.front == None:\n",
    "                self.rear = None\n",
    "            else:\n",
    "                self.front.prev = None\n",
    "            self.sz = self.sz - 1\n",
    "\n",
    "            return res\n",
    "\n",
    "    def getFront(self):\n",
    "        if self.front:\n",
    "            return self.front.key\n",
    "\n",
    "    def getRear(self):\n",
    "        if self.rear:\n",
    "            return self.rear.key\n",
    "\n",
    "# main\n",
    "\n",
    "dq = MyDeque(3)\n",
    "\n",
    "print(dq.isEmpty())\n",
    "dq.insertRear(10)\n",
    "print(dq.getFront(),dq.getRear())\n",
    "dq.insertRear(20)\n",
    "print(dq.getFront(),dq.getRear())\n",
    "dq.insertRear(30)\n",
    "print(dq.getFront(), dq.getRear())\n",
    "dq.deletfront()\n",
    "print(dq.getFront(), dq.getRear())\n"
   ]
  },
  {
   "cell_type": "code",
   "execution_count": 8,
   "metadata": {},
   "outputs": [
    {
     "output_type": "stream",
     "name": "stdout",
     "text": [
      "10 10\n20 10\n30 10\n30 20\n30 40\n30 20\n"
     ]
    }
   ],
   "source": [
    "#List Implementation of Deque in Python\n",
    "class MyDeque:\n",
    "    def __init__(self, c):\n",
    "        self.l = [None] * c\n",
    "        self.cap = c\n",
    "        self.size = 0\n",
    "        self.front = 0\n",
    "\n",
    "    def deleteFront(self):\n",
    "        if self.size == 0:\n",
    "            return None\n",
    "        else:\n",
    "            res = self.l[self.front]\n",
    "            self.front = (self.front + 1) % self.cap\n",
    "            self.size = self.size - 1\n",
    "\n",
    "            return res\n",
    "\n",
    "    def insertFront(self, x):\n",
    "\n",
    "        if self.size == self.cap:\n",
    "            return\n",
    "        else:\n",
    "            self.front = (self.front - 1) % self.cap\n",
    "            self.l[self.front] = x\n",
    "            self.size = self.size + 1\n",
    "\n",
    "    def insertRear(self, x):\n",
    "        if self.size == self.cap:\n",
    "            return\n",
    "        new_rear = (self.front + self.size) % self.cap\n",
    "        self.l[new_rear] = x\n",
    "        self.size = self.size + 1\n",
    "\n",
    "    def deleteRear(self):\n",
    "        sz = self.size\n",
    "        if sz == 0:\n",
    "            return None\n",
    "        else:\n",
    "            rear = (self.front + sz - 1) % self.cap\n",
    "            self.size = sz - 1\n",
    "            return self.l[rear]\n",
    "\n",
    "    def frontEle(self):\n",
    "        return self.l[self.front]\n",
    "\n",
    "    def rearEle(self):\n",
    "        rear = (self.front + self.size - 1) % self.cap\n",
    "        return self.l[rear]\n",
    "\n",
    "\n",
    "dq = MyDeque(4)\n",
    "\n",
    "dq.insertRear(10)\n",
    "print(dq.frontEle(), dq.rearEle())\n",
    "dq.insertFront(20)\n",
    "print(dq.frontEle(), dq.rearEle())\n",
    "dq.insertFront(30)\n",
    "print(dq.frontEle(), dq.rearEle())\n",
    "dq.deleteRear()\n",
    "print(dq.frontEle(), dq.rearEle())\n",
    "dq.insertRear(40)\n",
    "print(dq.frontEle(), dq.rearEle())\n",
    "dq.deleteRear()\n",
    "print(dq.frontEle(), dq.rearEle())\n"
   ]
  },
  {
   "cell_type": "code",
   "execution_count": null,
   "metadata": {},
   "outputs": [],
   "source": []
  }
 ]
}