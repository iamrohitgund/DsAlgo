{
 "metadata": {
  "language_info": {
   "codemirror_mode": {
    "name": "ipython",
    "version": 3
   },
   "file_extension": ".py",
   "mimetype": "text/x-python",
   "name": "python",
   "nbconvert_exporter": "python",
   "pygments_lexer": "ipython3",
   "version": "3.9.2-final"
  },
  "orig_nbformat": 2,
  "kernelspec": {
   "name": "python3",
   "display_name": "Python 3.9.2 64-bit",
   "metadata": {
    "interpreter": {
     "hash": "7812ea015bdcee6f23a998adcdd2ef97c151c0c241b7b7070987d9313e41299d"
    }
   }
  }
 },
 "nbformat": 4,
 "nbformat_minor": 2,
 "cells": [
  {
   "cell_type": "code",
   "execution_count": 1,
   "metadata": {},
   "outputs": [
    {
     "output_type": "stream",
     "name": "stdout",
     "text": [
      "[10, 20, 30]\n30\n20\n2\n"
     ]
    }
   ],
   "source": [
    "#stack\n",
    "#using list\n",
    "stack = []\n",
    "stack.append(10)\n",
    "stack.append(20)\n",
    "stack.append(30)\n",
    "print(stack)\n",
    "print(stack.pop())\n",
    "\n",
    "top=stack[-1]\n",
    "print(top)\n",
    "size=len(stack)\n",
    "print(size)\n"
   ]
  },
  {
   "cell_type": "code",
   "execution_count": 2,
   "metadata": {},
   "outputs": [
    {
     "output_type": "stream",
     "name": "stdout",
     "text": [
      "deque([10, 20, 30])\n30\n20\n2\n"
     ]
    }
   ],
   "source": [
    "#using deque\n",
    "from _collections import deque\n",
    "stack =deque()\n",
    "stack.append(10)\n",
    "stack.append(20)\n",
    "stack.append(30)\n",
    "print(stack)\n",
    "print(stack.pop())\n",
    "\n",
    "top=stack[-1]\n",
    "print(top)\n",
    "size=len(stack)\n",
    "print(size)\n"
   ]
  },
  {
   "cell_type": "code",
   "execution_count": 3,
   "metadata": {},
   "outputs": [
    {
     "output_type": "stream",
     "name": "stdout",
     "text": [
      "30\n20\n2\n"
     ]
    }
   ],
   "source": [
    "#Linked List Implementation of Stack in Python\n",
    "import math\n",
    "class Node:\n",
    "    def __init__(self, d):\n",
    "        self.data = d\n",
    "        self.next = None\n",
    "\n",
    "\n",
    "class MyStack:\n",
    "    def __init__(self):\n",
    "        self.head = None\n",
    "        self.sz = 0\n",
    "\n",
    "    def push(self, x):\n",
    "        temp = Node(x)\n",
    "        temp.next = self.head\n",
    "        self.head = temp\n",
    "        self.sz = self.sz+1\n",
    "\n",
    "    def size(self):\n",
    "        return self.sz\n",
    "\n",
    "    def peek(self):\n",
    "        if self.head == None:\n",
    "            return math.inf\n",
    "        return self.head.data\n",
    "    def pop(self):\n",
    "        if self.head==None:\n",
    "            return math.inf\n",
    "        res=self.head.data\n",
    "        self.head=self.head.next\n",
    "        self.sz=self.sz-1\n",
    "        return res\n",
    "\n",
    "\n",
    "s=MyStack()\n",
    "s.push(10)\n",
    "s.push(20)\n",
    "s.push(30)\n",
    "print(s.pop())\n",
    "print(s.peek())\n",
    "print(s.size())\n",
    "\n",
    "\n"
   ]
  },
  {
   "cell_type": "code",
   "execution_count": 4,
   "metadata": {},
   "outputs": [
    {
     "output_type": "stream",
     "name": "stdout",
     "text": [
      "True\n",
      "True\n"
     ]
    }
   ],
   "source": [
    "#Check for Balanced Parenthesis in Python\n",
    "def isMatching(a, b):\n",
    "    if (a == '(' and b == ')') or \\\n",
    "            (a == '{' and b == '}') or \\\n",
    "            (a == '[' and b == ']'):\n",
    "        return True\n",
    "    else:\n",
    "        return False\n",
    "\n",
    "\n",
    "def isBalanced(exper):\n",
    "    stack = []\n",
    "    for x in exper:\n",
    "        if x in ('(', '{', '['):\n",
    "            stack.append(x)\n",
    "        else:\n",
    "            if not stack:\n",
    "                return False\n",
    "            elif isMatching(stack[-1], x) == False:\n",
    "                return False\n",
    "            else:\n",
    "                stack.pop()\n",
    "    if stack:\n",
    "        return False\n",
    "    else:\n",
    "        return True\n",
    "\n",
    "\n",
    "a = input()\n",
    "\n",
    "print(isBalanced(a))\n",
    "\n",
    "a = input()\n",
    "\n",
    "print(isBalanced(a))\n"
   ]
  },
  {
   "cell_type": "code",
   "execution_count": null,
   "metadata": {},
   "outputs": [],
   "source": []
  }
 ]
}