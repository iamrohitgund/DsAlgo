{
  "nbformat": 4,
  "nbformat_minor": 0,
  "metadata": {
    "colab": {
      "name": "Validate_Subsequence.ipynb",
      "provenance": [],
      "authorship_tag": "ABX9TyOz5mwCkKVmXMqvXoXKGnA4",
      "include_colab_link": true
    },
    "kernelspec": {
      "name": "python3",
      "display_name": "Python 3"
    }
  },
  "cells": [
    {
      "cell_type": "markdown",
      "metadata": {
        "id": "view-in-github",
        "colab_type": "text"
      },
      "source": [
        "<a href=\"https://colab.research.google.com/github/iamrohitgund/dsalgo/blob/master/AlgoExpert/Validate_Subsequence.ipynb\" target=\"_parent\"><img src=\"https://colab.research.google.com/assets/colab-badge.svg\" alt=\"Open In Colab\"/></a>"
      ]
    },
    {
      "cell_type": "code",
      "metadata": {
        "id": "pHdnJePms3oG"
      },
      "source": [
        "def isValidSubsequence(array, sequence):\n",
        "\tarrInx = 0\n",
        "\tseqInx = 0\n",
        "\twhile arrInx < len(array) and seqInx < len(sequence):\n",
        "\t\tif array[arrInx] == sequence[seqInx]:\n",
        "\t\t\tseqInx += 1\n",
        "\t\tarrInx += 1\n",
        "\treturn seqInx == len(sequence)\n",
        "\n",
        "#Time O(n) and Size O(1)"
      ],
      "execution_count": 1,
      "outputs": []
    },
    {
      "cell_type": "code",
      "metadata": {
        "colab": {
          "base_uri": "https://localhost:8080/"
        },
        "id": "_3KGkLt4LOX_",
        "outputId": "4c42410f-daeb-4c48-bc85-1c4a3a0b5ab6"
      },
      "source": [
        "array = [5, 1, 22, 25, 6, -1, 8, 10]\n",
        "sequence = [1, 6, -1, 10]\n",
        "isValidSubsequence(array, sequence)"
      ],
      "execution_count": 3,
      "outputs": [
        {
          "output_type": "execute_result",
          "data": {
            "text/plain": [
              "True"
            ]
          },
          "metadata": {
            "tags": []
          },
          "execution_count": 3
        }
      ]
    },
    {
      "cell_type": "code",
      "metadata": {
        "id": "8HgUuJ_zLT4z"
      },
      "source": [
        ""
      ],
      "execution_count": null,
      "outputs": []
    },
    {
      "cell_type": "code",
      "metadata": {
        "colab": {
          "base_uri": "https://localhost:8080/",
          "height": 36
        },
        "id": "W_Y7DSWRL9ls",
        "outputId": "766c895a-5717-458e-d337-f9c063a7fef8"
      },
      "source": [
        "#Alternate Method using for loop\n",
        "\"\"\"\n",
        "def isValidSubsequence(array, sequence):\n",
        "    seqInx = 0\n",
        "\tfor value in array:\n",
        "\t\tif seqInx == len(sequence):\n",
        "\t\t\tbreak\n",
        "\t\tif sequence[seqInx] == value:\n",
        "\t\t\tseqInx += 1\n",
        "\treturn seqInx == len(sequence)\n",
        "\"\"\"\n",
        "#Time O(n) and Size O(1)"
      ],
      "execution_count": 4,
      "outputs": [
        {
          "output_type": "execute_result",
          "data": {
            "application/vnd.google.colaboratory.intrinsic+json": {
              "type": "string"
            },
            "text/plain": [
              "'\\ndef isValidSubsequence(array, sequence):\\n    seqInx = 0\\n\\tfor value in array:\\n\\t\\tif seqInx == len(sequence):\\n\\t\\t\\tbreak\\n\\t\\tif sequence[seqInx] == value:\\n\\t\\t\\tseqInx += 1\\n\\treturn seqInx == len(sequence)\\n'"
            ]
          },
          "metadata": {
            "tags": []
          },
          "execution_count": 4
        }
      ]
    },
    {
      "cell_type": "code",
      "metadata": {
        "id": "sbcEtHJPMK1s"
      },
      "source": [
        ""
      ],
      "execution_count": null,
      "outputs": []
    }
  ]
}