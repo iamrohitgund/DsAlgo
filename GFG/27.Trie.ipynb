{
 "metadata": {
  "language_info": {
   "codemirror_mode": {
    "name": "ipython",
    "version": 3
   },
   "file_extension": ".py",
   "mimetype": "text/x-python",
   "name": "python",
   "nbconvert_exporter": "python",
   "pygments_lexer": "ipython3",
   "version": "3.9.2"
  },
  "orig_nbformat": 2,
  "kernelspec": {
   "name": "python392jvsc74a57bd07812ea015bdcee6f23a998adcdd2ef97c151c0c241b7b7070987d9313e41299d",
   "display_name": "Python 3.9.2 64-bit ('3.9')"
  },
  "metadata": {
   "interpreter": {
    "hash": "7812ea015bdcee6f23a998adcdd2ef97c151c0c241b7b7070987d9313e41299d"
   }
  }
 },
 "nbformat": 4,
 "nbformat_minor": 2,
 "cells": [
  {
   "cell_type": "code",
   "execution_count": 1,
   "metadata": {},
   "outputs": [],
   "source": [
    "#Adding additional information from YouTube"
   ]
  },
  {
   "source": [
    "https://www.youtube.com/watch?v=hjUJFjcrbR4\n"
   ],
   "cell_type": "markdown",
   "metadata": {}
  },
  {
   "cell_type": "code",
   "execution_count": 5,
   "metadata": {},
   "outputs": [
    {
     "output_type": "stream",
     "name": "stdout",
     "text": [
      "True\nTrue\nFalse\nTrue\nFalse\n"
     ]
    }
   ],
   "source": [
    "class TrieNode:\n",
    "    def __init__(self, letter):\n",
    "        self.letter = letter\n",
    "        self.children = {}\n",
    "        self.is_end_of_word = False\n",
    "\n",
    "class Trie:\n",
    "    def __init__(self):\n",
    "        self.root = TrieNode(\"*\")\n",
    "\n",
    "    def add_word(self, word):\n",
    "        curr_node = self.root\n",
    "        for letter in word:\n",
    "            if letter not in curr_node.children:\n",
    "                curr_node.children[letter] = TrieNode(letter)\n",
    "            curr_node = curr_node.children[letter]\n",
    "        curr_node.is_end_of_word = True\n",
    "\n",
    "    def does_word_exists(self, word):\n",
    "        if word == \"\":\n",
    "            return True\n",
    "        curr_node = self.root\n",
    "        for letter in word:\n",
    "            if letter not in curr_node.children:\n",
    "                return False\n",
    "            curr_node = curr_node.children[letter]\n",
    "        return curr_node.is_end_of_word\n",
    "\n",
    "trie = Trie()\n",
    "words = [\"wait\", \"waiter\", \"shop\", \"shopper\"]\n",
    "for word in words:\n",
    "    trie.add_word(word)\n",
    "\n",
    "print(trie.does_word_exists(\"wait\")) #True\n",
    "print(trie.does_word_exists(\"\")) #True\n",
    "print(trie.does_word_exists(\"waite\")) #False\n",
    "print(trie.does_word_exists(\"shop\")) #True\n",
    "print(trie.does_word_exists(\"shoppp\")) #False\n"
   ]
  },
  {
   "cell_type": "code",
   "execution_count": null,
   "metadata": {},
   "outputs": [],
   "source": []
  }
 ]
}