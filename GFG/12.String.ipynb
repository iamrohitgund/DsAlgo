{
 "metadata": {
  "language_info": {
   "codemirror_mode": {
    "name": "ipython",
    "version": 3
   },
   "file_extension": ".py",
   "mimetype": "text/x-python",
   "name": "python",
   "nbconvert_exporter": "python",
   "pygments_lexer": "ipython3",
   "version": "3.9.2"
  },
  "orig_nbformat": 2,
  "kernelspec": {
   "name": "python392jvsc74a57bd07812ea015bdcee6f23a998adcdd2ef97c151c0c241b7b7070987d9313e41299d",
   "display_name": "Python 3.9.2 64-bit ('3.9')"
  },
  "metadata": {
   "interpreter": {
    "hash": "7812ea015bdcee6f23a998adcdd2ef97c151c0c241b7b7070987d9313e41299d"
   }
  }
 },
 "nbformat": 4,
 "nbformat_minor": 2,
 "cells": [
  {
   "cell_type": "code",
   "execution_count": 2,
   "metadata": {},
   "outputs": [
    {
     "output_type": "stream",
     "name": "stdout",
     "text": [
      "welcome tp Geek's course\n"
     ]
    }
   ],
   "source": [
    "#Escape sequences(character with backslash) \n",
    "s='welcome tp Geek\\'s course'\n",
    "print(s)\n"
   ]
  },
  {
   "cell_type": "code",
   "execution_count": 3,
   "metadata": {},
   "outputs": [
    {
     "output_type": "stream",
     "name": "stdout",
     "text": [
      "Hi \nwelcome to the course\n"
     ]
    }
   ],
   "source": [
    "#Escape backslash with n(\\n) \n",
    "s=\"Hi \\nwelcome to the course\"\n",
    "print(s)\n"
   ]
  },
  {
   "cell_type": "code",
   "execution_count": 4,
   "metadata": {},
   "outputs": [
    {
     "output_type": "stream",
     "name": "stdout",
     "text": [
      "A simple \\ example\nBackslash at the end\\\n\\n\n\\t\n"
     ]
    }
   ],
   "source": [
    "#Escaping the backslash itself \n",
    "s1=\"A simple \\ example\"\n",
    "print(s1)\n",
    "s2=\"Backslash at the end\\\\\"\n",
    "print(s2)\n",
    "s3=\"\\\\n\"\n",
    "print(s3)\n",
    "s4=\"\\\\t\"\n",
    "print(s4)\n"
   ]
  },
  {
   "cell_type": "code",
   "execution_count": 6,
   "metadata": {},
   "outputs": [
    {
     "output_type": "stream",
     "name": "stdout",
     "text": [
      "c:\\project\name.py\nc:\\project\\name.py\n"
     ]
    }
   ],
   "source": [
    "#Raw string\n",
    "s1=\"c:\\project\\name.py\"\n",
    "print(s1)\n",
    "\n",
    "s2=r\"c:\\project\\name.py\"\n",
    "print(s2)\n"
   ]
  },
  {
   "cell_type": "code",
   "execution_count": 7,
   "metadata": {},
   "outputs": [],
   "source": [
    "#Reverse a string in Python"
   ]
  },
  {
   "cell_type": "code",
   "execution_count": 11,
   "metadata": {},
   "outputs": [
    {
     "output_type": "stream",
     "name": "stdout",
     "text": [
      "esrever\n"
     ]
    }
   ],
   "source": [
    "#Using for loop \n",
    "s = input(\"Enter a String:\\n\")\n",
    "\n",
    "rev = \"\"\n",
    "\n",
    "for i in s:\n",
    "    rev = i+rev\n",
    "\n",
    "print(rev)"
   ]
  },
  {
   "cell_type": "code",
   "execution_count": 12,
   "metadata": {},
   "outputs": [
    {
     "output_type": "stream",
     "name": "stdout",
     "text": [
      "\n"
     ]
    }
   ],
   "source": [
    "#Slicing\n",
    "s = input(\"Enter a String:\\n\")\n",
    "\n",
    "print(s[::-1])"
   ]
  },
  {
   "cell_type": "code",
   "execution_count": 13,
   "metadata": {},
   "outputs": [],
   "source": [
    "#String Comparision in Python"
   ]
  },
  {
   "cell_type": "code",
   "execution_count": 14,
   "metadata": {},
   "outputs": [
    {
     "output_type": "stream",
     "name": "stdout",
     "text": [
      "True\nTrue\nFalse\nFalse\nFalse\nTrue\n#############\nabcd > abc  True\nZAB>ABC True\nabc>ABC True\nx>abcd True\n"
     ]
    }
   ],
   "source": [
    "s1 = \"geeksforgeeks\"\n",
    "\n",
    "s2 = \"ide\"\n",
    "\n",
    "print(s1<s2)\n",
    "print(s1<=s2)\n",
    "print(s1>s2)\n",
    "print(s1>=s2)\n",
    "print(s1==s2)\n",
    "print(s1 != s2)\n",
    "\n",
    "\n",
    "print(\"#############\")\n",
    "\n",
    "print(\"abcd > abc \",\"abcd\">\"abc\")\n",
    "print(\"ZAB>ABC\",\"ZAB\">\"ABC\")\n",
    "\n",
    "print(\"abc>ABC\",\"abc\">\"ABC\")\n",
    "\n",
    "print(\"x>abcd\",\"x\">\"abcd\")"
   ]
  },
  {
   "cell_type": "code",
   "execution_count": 15,
   "metadata": {},
   "outputs": [],
   "source": [
    "#String in Python"
   ]
  },
  {
   "cell_type": "code",
   "execution_count": 16,
   "metadata": {},
   "outputs": [
    {
     "output_type": "stream",
     "name": "stdout",
     "text": [
      "97\n65\na\nA\n"
     ]
    }
   ],
   "source": [
    "#Ord and chr \n",
    "print(ord(\"a\"))     # chr to ord\n",
    "print(ord(\"A\"))\n",
    "print(chr(97))      # ord to chr\n",
    "print(chr(65))\n"
   ]
  },
  {
   "cell_type": "code",
   "execution_count": 17,
   "metadata": {},
   "outputs": [
    {
     "output_type": "stream",
     "name": "stdout",
     "text": [
      "geek\ng\nk\ne\ne\n"
     ]
    }
   ],
   "source": [
    "#Indexing\n",
    "s = \"geek\"\n",
    "\n",
    "print(s)\n",
    "print(s[0])\n",
    "print(s[-1])\n",
    "print(s[1])\n",
    "print(s[-2])"
   ]
  },
  {
   "cell_type": "code",
   "execution_count": 18,
   "metadata": {},
   "outputs": [
    {
     "output_type": "error",
     "ename": "TypeError",
     "evalue": "'str' object does not support item assignment",
     "traceback": [
      "\u001b[0;31m---------------------------------------------------------------------------\u001b[0m",
      "\u001b[0;31mTypeError\u001b[0m                                 Traceback (most recent call last)",
      "\u001b[0;32m<ipython-input-18-298b31dc03e8>\u001b[0m in \u001b[0;36m<module>\u001b[0;34m\u001b[0m\n\u001b[1;32m      1\u001b[0m \u001b[0;31m#Strings are immutable\u001b[0m\u001b[0;34m\u001b[0m\u001b[0;34m\u001b[0m\u001b[0;34m\u001b[0m\u001b[0m\n\u001b[1;32m      2\u001b[0m \u001b[0ms\u001b[0m \u001b[0;34m=\u001b[0m \u001b[0;34m\"geek\"\u001b[0m\u001b[0;34m\u001b[0m\u001b[0;34m\u001b[0m\u001b[0m\n\u001b[0;32m----> 3\u001b[0;31m \u001b[0ms\u001b[0m\u001b[0;34m[\u001b[0m\u001b[0;36m0\u001b[0m\u001b[0;34m]\u001b[0m \u001b[0;34m=\u001b[0m \u001b[0;34m\"e\"\u001b[0m  \u001b[0;31m# error: item assignment not supported\u001b[0m\u001b[0;34m\u001b[0m\u001b[0;34m\u001b[0m\u001b[0m\n\u001b[0m\u001b[1;32m      4\u001b[0m \u001b[0mprint\u001b[0m\u001b[0;34m(\u001b[0m\u001b[0ms\u001b[0m\u001b[0;34m)\u001b[0m\u001b[0;34m\u001b[0m\u001b[0;34m\u001b[0m\u001b[0m\n",
      "\u001b[0;31mTypeError\u001b[0m: 'str' object does not support item assignment"
     ]
    }
   ],
   "source": [
    "#Strings are immutable \n",
    "s = \"geek\"\n",
    "s[0] = \"e\"  # error: item assignment not supported\n",
    "print(s)"
   ]
  },
  {
   "cell_type": "code",
   "execution_count": 20,
   "metadata": {},
   "outputs": [
    {
     "output_type": "stream",
     "name": "stdout",
     "text": [
      "Hi,\nThis is python course.\nHope you are enjoying it. \n"
     ]
    }
   ],
   "source": [
    "#Multiline string \n",
    "s = \"\"\"Hi,\n",
    "This is python course.\n",
    "Hope you are enjoying it. \"\"\"\n",
    "print(s)\n"
   ]
  },
  {
   "cell_type": "code",
   "execution_count": 21,
   "metadata": {},
   "outputs": [],
   "source": [
    "#Formatted String in Python"
   ]
  },
  {
   "cell_type": "code",
   "execution_count": 22,
   "metadata": {},
   "outputs": [
    {
     "output_type": "stream",
     "name": "stdout",
     "text": [
      "Welcome ABC to the Python Course\n\nwelcome ABC to the Python Course\n\nwelcome ABC to the Python Course\n\n"
     ]
    }
   ],
   "source": [
    "#3-Formatter\n",
    "name = \"ABC\"\n",
    "\n",
    "course = \"Python Course\"\n",
    "\n",
    "s = \"Welcome %s to the %s\"%(name,course)\n",
    "print(s)\n",
    "print()\n",
    "###########\n",
    "# using format function\n",
    "\n",
    "s = \"welcome {0} to the {1}\".format(name,course)\n",
    "print(s)\n",
    "print()\n",
    "############################\n",
    "# using f-string\n",
    "\n",
    "s = f\"welcome {name} to the {course}\"\n",
    "print(s)\n",
    "print()\n"
   ]
  },
  {
   "cell_type": "code",
   "execution_count": 23,
   "metadata": {},
   "outputs": [
    {
     "output_type": "stream",
     "name": "stdout",
     "text": [
      "sum of 10 and 20 is 30\nproduct of 10 and 20 is 200\n"
     ]
    }
   ],
   "source": [
    "#f String\n",
    "a = 10\n",
    "b = 20\n",
    "\n",
    "print(f\"sum of {a} and {b} is {a + b}\")\n",
    "print(f\"product of {a} and {b} is {a * b}\")"
   ]
  },
  {
   "cell_type": "code",
   "execution_count": 24,
   "metadata": {},
   "outputs": [
    {
     "output_type": "stream",
     "name": "stdout",
     "text": [
      "lower case of ABC is abc\nupper case of abc is ABC\n"
     ]
    }
   ],
   "source": [
    "#Calling methods in f-string \n",
    "s1  = \"ABC\"\n",
    "s2 = \"abc\"\n",
    "\n",
    "print(f\"lower case of {s1} is {s1.lower()}\")\n",
    "print(f\"upper case of {s2} is {s2.upper()}\")"
   ]
  },
  {
   "cell_type": "code",
   "execution_count": 25,
   "metadata": {},
   "outputs": [],
   "source": [
    "#String Operations Part 1"
   ]
  },
  {
   "cell_type": "code",
   "execution_count": 27,
   "metadata": {},
   "outputs": [
    {
     "output_type": "stream",
     "name": "stdout",
     "text": [
      "True\nFalse\n"
     ]
    }
   ],
   "source": [
    "#Checking for substring \n",
    "s1 = \"geeksforgeeks\"\n",
    "s2 = \"geeks\"\n",
    "\n",
    "print(s2 in s1)\n",
    "print(s2 not in s1)"
   ]
  },
  {
   "cell_type": "code",
   "execution_count": 28,
   "metadata": {},
   "outputs": [
    {
     "output_type": "stream",
     "name": "stdout",
     "text": [
      "geeksfor\nwelcome to geeksfor\n"
     ]
    }
   ],
   "source": [
    "#Concatenation \n",
    "s1 = \"geeks\"\n",
    "s2 = \"for\"\n",
    "s3 = s1 + s2\n",
    "\n",
    "s4 = \"welcome to \" + s1 + s2\n",
    "\n",
    "print(s3)\n",
    "print(s4)"
   ]
  },
  {
   "cell_type": "code",
   "execution_count": 29,
   "metadata": {},
   "outputs": [
    {
     "output_type": "stream",
     "name": "stdout",
     "text": [
      "0\n8\n8\n"
     ]
    }
   ],
   "source": [
    "#Position of substring \n",
    "s1 = \"geeksforgeeks\"\n",
    "s2 = \"geeks\"\n",
    "\n",
    "print(s1.index(s2))\n",
    "print(s1.rindex(s2))        # right index\n",
    "print(s1.index(s2,1,13))    # start and end index\n"
   ]
  },
  {
   "cell_type": "code",
   "execution_count": 30,
   "metadata": {},
   "outputs": [],
   "source": [
    "#String Operations Part (2)"
   ]
  },
  {
   "cell_type": "code",
   "execution_count": 31,
   "metadata": {},
   "outputs": [
    {
     "output_type": "stream",
     "name": "stdout",
     "text": [
      "5\nGEEKS\ngeeks\nTrue\nTrue\n"
     ]
    }
   ],
   "source": [
    "#Len,lower,upper \n",
    "s1 = \"geeks\"\n",
    "\n",
    "print(len(s1))\n",
    "\n",
    "s2 = s1.upper()\n",
    "\n",
    "print(s2)\n",
    "\n",
    "s3 = s2.lower()\n",
    "\n",
    "print(s3)\n",
    "\n",
    "print(s1.islower())\n",
    "\n",
    "print(s2.isupper())\n",
    "\n"
   ]
  },
  {
   "cell_type": "code",
   "execution_count": 33,
   "metadata": {},
   "outputs": [
    {
     "output_type": "stream",
     "name": "stdout",
     "text": [
      "True\nTrue\nFalse\nTrue\n"
     ]
    }
   ],
   "source": [
    "#Startwith ,endwith \n",
    "s = \"GeeksforGeeks Python Course\"\n",
    "\n",
    "print(s.startswith(\"Geeks\"))\n",
    "\n",
    "print(s.endswith(\"Course\"))\n",
    "\n",
    "print(s.startswith(\"Geeks\", 1))     # start index\n",
    "\n",
    "print(s.startswith(\"Geeks\",8,len(s)))   # start index, last-index"
   ]
  },
  {
   "cell_type": "code",
   "execution_count": 34,
   "metadata": {},
   "outputs": [
    {
     "output_type": "stream",
     "name": "stdout",
     "text": [
      "['geeks', 'for', 'geeks']\n['geeks', ' for', ' geeks']\ngeeksforgeeks python course\ngeeksforgeeks, python, course\n"
     ]
    }
   ],
   "source": [
    "#Split join \n",
    "s1 = \"geeks for geeks\"\n",
    "\n",
    "print(s1.split())   # split by space ' '\n",
    "\n",
    "s2 = \"geeks, for, geeks\"\n",
    "print(s2.split(','))        # split by comma ','\n",
    "\n",
    "l = [\"geeksforgeeks\",\"python\",\"course\"]\n",
    "\n",
    "print(\" \".join(l))          # join by space\n",
    "\n",
    "print(\", \".join(l))         # join by comma"
   ]
  },
  {
   "cell_type": "code",
   "execution_count": 36,
   "metadata": {},
   "outputs": [
    {
     "output_type": "stream",
     "name": "stdout",
     "text": [
      "geeksforgeeks\ngeeksforgeeks__\n__geeksforgeeks\n"
     ]
    }
   ],
   "source": [
    "#Strip\n",
    "s1 = \"__geeksforgeeks__\"\n",
    "\n",
    "print(s1.strip(\"_\"))   # strip from both side\n",
    "\n",
    "\n",
    "print(s1.lstrip('_'))  # strip from left side\n",
    "\n",
    "\n",
    "print(s1.rstrip(\"_\"))   # strip from right side"
   ]
  },
  {
   "cell_type": "code",
   "execution_count": 37,
   "metadata": {},
   "outputs": [
    {
     "output_type": "stream",
     "name": "stdout",
     "text": [
      "0\n-1\n10\n"
     ]
    }
   ],
   "source": [
    "#Find\n",
    "s1 = \"geeks for geeks\"\n",
    "\n",
    "s2 = \"geeks\"\n",
    "\n",
    "print(s1.find(s2))\n",
    "\n",
    "print(s1.find(\"gfg\"))\n",
    "\n",
    "n = len(s1)\n",
    "\n",
    "print(s1.find(s2,1,n))"
   ]
  },
  {
   "cell_type": "code",
   "execution_count": 39,
   "metadata": {},
   "outputs": [
    {
     "output_type": "stream",
     "name": "stdout",
     "text": [
      "0\n10\n"
     ]
    }
   ],
   "source": [
    "#Pattern Searching in Python\n",
    "txt = input(\"Enter Text:\\n\")\n",
    "pat = input(\"Enter Pattern:\\n\")\n",
    "\n",
    "pos = txt.find(pat)\n",
    "\n",
    "while pos>=0:\n",
    "    \n",
    "    print(pos)\n",
    "    pos = txt.find(pat,pos+1)"
   ]
  },
  {
   "cell_type": "code",
   "execution_count": 40,
   "metadata": {},
   "outputs": [],
   "source": [
    "#Check Palindrome"
   ]
  },
  {
   "cell_type": "code",
   "execution_count": null,
   "metadata": {},
   "outputs": [],
   "source": [
    "#while loop\n",
    "\n",
    "s = input(\"Enter a String:\\n\")\n",
    "low = 0\n",
    "\n",
    "high = len(s)-1\n",
    "\n",
    "while low<high:\n",
    "    if s[low]!=s[high]:\n",
    "        print(\"No\")\n",
    "        break\n",
    "    low = low+1\n",
    "    high = high-1\n",
    "    \n",
    "else:\n",
    "    print(\"Yes\")"
   ]
  },
  {
   "cell_type": "code",
   "execution_count": null,
   "metadata": {},
   "outputs": [],
   "source": [
    "#slicing\n",
    "\n",
    "s = input(\"Enter a String:\\n\")\n",
    "\n",
    "if s==s[::-1]:\n",
    "    print(\"Yes\")\n",
    "else:\n",
    "    print(\"No\")\n",
    "    "
   ]
  },
  {
   "cell_type": "code",
   "execution_count": null,
   "metadata": {},
   "outputs": [],
   "source": []
  }
 ]
}