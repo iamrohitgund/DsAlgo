{
 "metadata": {
  "language_info": {
   "codemirror_mode": {
    "name": "ipython",
    "version": 3
   },
   "file_extension": ".py",
   "mimetype": "text/x-python",
   "name": "python",
   "nbconvert_exporter": "python",
   "pygments_lexer": "ipython3",
   "version": "3.9.2-final"
  },
  "orig_nbformat": 2,
  "kernelspec": {
   "name": "python392jvsc74a57bd07812ea015bdcee6f23a998adcdd2ef97c151c0c241b7b7070987d9313e41299d",
   "display_name": "Python 3.9.2 64-bit"
  },
  "metadata": {
   "interpreter": {
    "hash": "7812ea015bdcee6f23a998adcdd2ef97c151c0c241b7b7070987d9313e41299d"
   }
  }
 },
 "nbformat": 4,
 "nbformat_minor": 2,
 "cells": [
  {
   "cell_type": "code",
   "execution_count": 1,
   "metadata": {},
   "outputs": [],
   "source": [
    "#tree\n",
    "#BFS --> Level order , Shortest path gaurantee\n",
    "#DFS --> inorder(left,root,right), #preorder (root,left,right), #postorder(left,right,root)\n"
   ]
  },
  {
   "cell_type": "code",
   "execution_count": 2,
   "metadata": {},
   "outputs": [],
   "source": [
    "#Binary Search Tree\n",
    "class Node:\n",
    "    def __init__(self, k):\n",
    "        self.left = None\n",
    "        self.right = None\n",
    "        self.key = k\n",
    "\n",
    "\n",
    "# Driver Code\n",
    "\n",
    "root = Node(10)\n",
    "root.left = Node(20)\n",
    "root.right = Node(30)\n",
    "root.left.right = Node(40)\n"
   ]
  },
  {
   "cell_type": "code",
   "execution_count": 3,
   "metadata": {},
   "outputs": [
    {
     "output_type": "stream",
     "name": "stdout",
     "text": [
      "20\n10\n40\n30\n50\n"
     ]
    }
   ],
   "source": [
    "#Inorder Traversal in Python \n",
    "class Node:\n",
    "    def __init__(self, k):\n",
    "        self.left = None\n",
    "        self.right = None\n",
    "        self.key = k\n",
    "\n",
    "\n",
    "def inorder(root):\n",
    "    if root != None:\n",
    "        inorder(root.left)\n",
    "        print(root.key)\n",
    "        inorder(root.right)\n",
    "\n",
    "\n",
    "# Driver Code\n",
    "\n",
    "root = Node(10)\n",
    "root.left = Node(20)\n",
    "root.right = Node(30)\n",
    "root.right.left = Node(40)\n",
    "root.right.right = Node(50)\n",
    "\n",
    "inorder(root)\n"
   ]
  },
  {
   "cell_type": "code",
   "execution_count": 4,
   "metadata": {},
   "outputs": [
    {
     "output_type": "stream",
     "name": "stdout",
     "text": [
      "10\n20\n30\n40\n50\n"
     ]
    }
   ],
   "source": [
    "#Preorder Traversal in Python \n",
    "#Time complexity O(n) and Space O(h)\n",
    "class Node:\n",
    "    def __init__(self,k):\n",
    "        self.key = k\n",
    "        self.left = None\n",
    "        self.right = None\n",
    "\n",
    "def preorder(root):\n",
    "    if root != None:\n",
    "        print(root.key)\n",
    "        preorder(root.left)\n",
    "        preorder(root.right)\n",
    "\n",
    "#driver code\n",
    "root = Node(10)\n",
    "root.left = Node(20)\n",
    "root.right = Node(30)\n",
    "root.right.left = Node(40)\n",
    "root.right.right = Node(50)\n",
    "preorder(root)\n"
   ]
  },
  {
   "cell_type": "code",
   "execution_count": 1,
   "metadata": {},
   "outputs": [
    {
     "output_type": "stream",
     "name": "stdout",
     "text": [
      "20\n40\n50\n30\n10\n"
     ]
    }
   ],
   "source": [
    "#Postorder Traversal\n",
    "class Node:\n",
    "    def __init__(self, k):\n",
    "        self.left = None\n",
    "        self.right = None\n",
    "        self.key = k\n",
    "\n",
    "\n",
    "def postorder(root):\n",
    "    if root != None:\n",
    "        postorder(root.left)\n",
    "        postorder(root.right)\n",
    "        print(root.key)\n",
    "\n",
    "\n",
    "# Driver Code\n",
    "\n",
    "root = Node(10)\n",
    "root.left = Node(20)\n",
    "root.right = Node(30)\n",
    "root.right.left = Node(40)\n",
    "root.right.right = Node(50)\n",
    "\n",
    "postorder(root)\n"
   ]
  },
  {
   "cell_type": "code",
   "execution_count": 2,
   "metadata": {},
   "outputs": [
    {
     "output_type": "stream",
     "name": "stdout",
     "text": [
      "5\n"
     ]
    }
   ],
   "source": [
    "#Size of Binary Tree in Python \n",
    "class Node:\n",
    "    def __init__(self, k):\n",
    "        self.left = None\n",
    "        self.right = None\n",
    "        self.key = k\n",
    "\n",
    "\n",
    "def treeSize(root):\n",
    "    if root == None:\n",
    "        return 0\n",
    "    else:\n",
    "        ls = treeSize(root.left)\n",
    "        rs = treeSize(root.right)\n",
    "        return ls + rs + 1\n",
    "\n",
    "\n",
    "\n",
    "\n",
    "# Driver Code\n",
    "\n",
    "root = Node(10)\n",
    "root.left = Node(20)\n",
    "root.right = Node(30)\n",
    "root.right.left = Node(40)\n",
    "root.right.right = Node(50)\n",
    "\n",
    "print(treeSize(root))\n"
   ]
  },
  {
   "cell_type": "code",
   "execution_count": 3,
   "metadata": {},
   "outputs": [
    {
     "output_type": "stream",
     "name": "stdout",
     "text": [
      "5\n"
     ]
    }
   ],
   "source": [
    "class Node:\n",
    "    def __init__(self, k):\n",
    "        self.left = None\n",
    "        self.right = None\n",
    "        self.key = k\n",
    "\n",
    "\n",
    "def treeSize(root):\n",
    "    if root == None:\n",
    "        return 0\n",
    "    else:\n",
    "        return 1 + treeSize(root.left) + treeSize(root.right)\n",
    "\n",
    "\n",
    "\n",
    "\n",
    "\n",
    "# Driver Code\n",
    "\n",
    "root = Node(10)\n",
    "root.left = Node(20)\n",
    "root.right = Node(30)\n",
    "root.right.left = Node(40)\n",
    "root.right.right = Node(50)\n",
    "\n",
    "print(treeSize(root))\n"
   ]
  },
  {
   "cell_type": "code",
   "execution_count": 5,
   "metadata": {},
   "outputs": [
    {
     "output_type": "stream",
     "name": "stdout",
     "text": [
      "80\n"
     ]
    }
   ],
   "source": [
    "#Maximum in Binary Tree\n",
    "from math import inf\n",
    "\n",
    "\n",
    "class Node:\n",
    "    def __init__(self, k):\n",
    "        self.left = None\n",
    "        self.right = None\n",
    "        self.key = k\n",
    "\n",
    "\n",
    "def getMax(root):\n",
    "    if root == None:\n",
    "        return -inf\n",
    "    else:\n",
    "        lm = getMax(root.left)\n",
    "        rm = getMax(root.right)\n",
    "\n",
    "        return max(root.key, lm, rm)\n",
    "\n",
    "\n",
    "# Driver Code\n",
    "\n",
    "root = Node(10)\n",
    "root.left = Node(80)\n",
    "root.right = Node(15)\n",
    "root.right.left = Node(40)\n",
    "root.right.right = Node(50)\n",
    "\n",
    "print(getMax(root))\n"
   ]
  },
  {
   "cell_type": "code",
   "execution_count": 6,
   "metadata": {},
   "outputs": [
    {
     "output_type": "stream",
     "name": "stdout",
     "text": [
      "80\n"
     ]
    }
   ],
   "source": [
    "from math import inf\n",
    "\n",
    "\n",
    "class Node:\n",
    "    def __init__(self, k):\n",
    "        self.left = None\n",
    "        self.right = None\n",
    "        self.key = k\n",
    "\n",
    "\n",
    "def getMax(root):\n",
    "    if root == None:\n",
    "        return -inf\n",
    "    else:\n",
    "        return max(root.key, getMax(root.left), getMax(root.right))\n",
    "\n",
    "\n",
    "\n",
    "# Driver Code\n",
    "\n",
    "root = Node(10)\n",
    "root.left = Node(80)\n",
    "root.right = Node(15)\n",
    "root.right.left = Node(40)\n",
    "root.right.right = Node(50)\n",
    "\n",
    "print(getMax(root))\n"
   ]
  },
  {
   "cell_type": "code",
   "execution_count": 7,
   "metadata": {},
   "outputs": [
    {
     "output_type": "stream",
     "name": "stdout",
     "text": [
      "True\nFalse\nTrue\n"
     ]
    }
   ],
   "source": [
    "#Search Binary Tree\n",
    "class Node:\n",
    "    def __init__(self, k):\n",
    "        self.left = None\n",
    "        self.right = None\n",
    "        self.key = k\n",
    "\n",
    "\n",
    "def searchkey(root, key):\n",
    "    if root is None:\n",
    "        return False\n",
    "    elif root.key == key:\n",
    "        return True\n",
    "    elif searchkey(root.left, key):\n",
    "        return True\n",
    "    else:\n",
    "        return searchkey(root.right, key)\n",
    "\n",
    "\n",
    "# Driver Code\n",
    "\n",
    "root = Node(10)\n",
    "root.left = Node(12)\n",
    "root.right = Node(40)\n",
    "root.right.left = Node(15)\n",
    "root.right.right = Node(30)\n",
    "\n",
    "print(searchkey(root, 15))\n",
    "print(searchkey(root, 25))\n",
    "print(searchkey(root, 30))\n"
   ]
  },
  {
   "cell_type": "code",
   "execution_count": 8,
   "metadata": {},
   "outputs": [
    {
     "output_type": "stream",
     "name": "stdout",
     "text": [
      "3\n"
     ]
    }
   ],
   "source": [
    "#Height of Binary Tree\n",
    "class Node:\n",
    "    def __init__(self, k):\n",
    "        self.left = None\n",
    "        self.right = None\n",
    "        self.key = k\n",
    "\n",
    "\n",
    "def height(root):\n",
    "    if root == None:\n",
    "        return 0\n",
    "    else:\n",
    "        lh = height(root.left)\n",
    "        rh = height(root.right)\n",
    "        return max(lh, rh) + 1\n",
    "\n",
    "\n",
    "# Driver Code\n",
    "\n",
    "root = Node(10)\n",
    "root.left = Node(20)\n",
    "root.right = Node(30)\n",
    "root.right.left = Node(40)\n",
    "\n",
    "print(height(root))\n"
   ]
  },
  {
   "cell_type": "code",
   "execution_count": 9,
   "metadata": {},
   "outputs": [
    {
     "output_type": "stream",
     "name": "stdout",
     "text": [
      "3\n"
     ]
    }
   ],
   "source": [
    "class Node:\n",
    "    def __init__(self, k):\n",
    "        self.left = None\n",
    "        self.right = None\n",
    "        self.key = k\n",
    "\n",
    "\n",
    "def height(root):\n",
    "    if root == None:\n",
    "        return 0\n",
    "    else:\n",
    "        return max(height(root.left), height(root.right)) + 1\n",
    "\n",
    "\n",
    "# Driver Code\n",
    "\n",
    "root = Node(10)\n",
    "root.left = Node(20)\n",
    "root.right = Node(30)\n",
    "root.right.left = Node(40)\n",
    "\n",
    "print(height(root))\n"
   ]
  },
  {
   "cell_type": "code",
   "execution_count": 10,
   "metadata": {},
   "outputs": [
    {
     "output_type": "stream",
     "name": "stdout",
     "text": [
      "40\n20\n50\n10\n30\n"
     ]
    }
   ],
   "source": [
    "#Iterative Inorder Traversal\n",
    "class Node:\n",
    "    def __init__(self, k):\n",
    "        self.left = None\n",
    "        self.right = None\n",
    "        self.key = k\n",
    "\n",
    "\n",
    "def itrInorder(root):\n",
    "    if root is None:\n",
    "        return\n",
    "\n",
    "    st = []\n",
    "    curr = root\n",
    "    while curr is not None:\n",
    "        st.append(curr)\n",
    "        curr = curr.left\n",
    "\n",
    "    while len(st) > 0:\n",
    "        curr = st.pop()\n",
    "        print(curr.key)\n",
    "        curr = curr.right\n",
    "\n",
    "        while curr is not None:\n",
    "            st.append(curr)\n",
    "            curr = curr.left\n",
    "\n",
    "\n",
    "# Driver Code\n",
    "\n",
    "root = Node(10)\n",
    "root.left = Node(20)\n",
    "root.right = Node(30)\n",
    "root.left.left = Node(40)\n",
    "root.left.right = Node(50)\n",
    "\n",
    "itrInorder(root)\n"
   ]
  },
  {
   "cell_type": "code",
   "execution_count": 11,
   "metadata": {},
   "outputs": [
    {
     "output_type": "stream",
     "name": "stdout",
     "text": [
      "10\n20\n40\n50\n30\n60\n"
     ]
    }
   ],
   "source": [
    "#Iterative Preorder Traversal\n",
    "class Node:\n",
    "    def __init__(self, k):\n",
    "        self.left = None\n",
    "        self.right = None\n",
    "        self.key = k\n",
    "\n",
    "\n",
    "def itrPreorder(root):\n",
    "    if root is None:\n",
    "        return\n",
    "\n",
    "    st = [root]\n",
    "\n",
    "    while len(st) > 0:\n",
    "        curr = st.pop()\n",
    "        print(curr.key)\n",
    "\n",
    "        if curr.right is not None:\n",
    "            st.append(curr.right)\n",
    "\n",
    "        if curr.left is not None:\n",
    "            st.append(curr.left)\n",
    "\n",
    "\n",
    "# Driver Code\n",
    "\n",
    "root = Node(10)\n",
    "root.left = Node(20)\n",
    "root.right = Node(30)\n",
    "root.left.left = Node(40)\n",
    "root.left.right = Node(50)\n",
    "root.right.right = Node(60)\n",
    "\n",
    "itrPreorder(root)\n"
   ]
  },
  {
   "cell_type": "code",
   "execution_count": 12,
   "metadata": {},
   "outputs": [
    {
     "output_type": "stream",
     "name": "stdout",
     "text": [
      "10\n20\n30\n40\n50\n60\n70\n80\n"
     ]
    }
   ],
   "source": [
    "#Level Order Traversal\n",
    "from collections import deque\n",
    "\n",
    "\n",
    "class Node:\n",
    "    def __init__(self, k):\n",
    "        self.left = None\n",
    "        self.right = None\n",
    "        self.key = k\n",
    "\n",
    "\n",
    "def printLevelOrder(root):\n",
    "    if root is None:\n",
    "        return\n",
    "\n",
    "    q = deque()\n",
    "    q.append(root)\n",
    "\n",
    "    while len(q) > 0:\n",
    "        node = q.popleft()\n",
    "        print(node.key)\n",
    "\n",
    "        if node.left is not None:\n",
    "            q.append(node.left)\n",
    "\n",
    "        if node.right is not None:\n",
    "            q.append(node.right)\n",
    "\n",
    "\n",
    "# Driver code\n",
    "root = Node(10)\n",
    "root.left = Node(20)\n",
    "root.right = Node(30)\n",
    "root.left.left = Node(40)\n",
    "root.right.left = Node(50)\n",
    "root.right.right = Node(60)\n",
    "root.right.left.left = Node(70)\n",
    "root.right.left.right = Node(80)\n",
    "\n",
    "printLevelOrder(root)\n"
   ]
  },
  {
   "cell_type": "code",
   "execution_count": null,
   "metadata": {},
   "outputs": [],
   "source": []
  }
 ]
}