{
 "metadata": {
  "language_info": {
   "codemirror_mode": {
    "name": "ipython",
    "version": 3
   },
   "file_extension": ".py",
   "mimetype": "text/x-python",
   "name": "python",
   "nbconvert_exporter": "python",
   "pygments_lexer": "ipython3",
   "version": "3.9.2-final"
  },
  "orig_nbformat": 2,
  "kernelspec": {
   "name": "python392jvsc74a57bd07812ea015bdcee6f23a998adcdd2ef97c151c0c241b7b7070987d9313e41299d",
   "display_name": "Python 3.9.2 64-bit"
  },
  "metadata": {
   "interpreter": {
    "hash": "7812ea015bdcee6f23a998adcdd2ef97c151c0c241b7b7070987d9313e41299d"
   }
  }
 },
 "nbformat": 4,
 "nbformat_minor": 2,
 "cells": [
  {
   "cell_type": "code",
   "execution_count": 1,
   "metadata": {},
   "outputs": [],
   "source": [
    "#Graph"
   ]
  },
  {
   "cell_type": "code",
   "execution_count": 2,
   "metadata": {},
   "outputs": [
    {
     "output_type": "stream",
     "name": "stdout",
     "text": [
      "0 [1, 2]\n1 [0, 2, 3]\n2 [0, 1]\n3 [1]\n"
     ]
    }
   ],
   "source": [
    "#Graph Adjacency List Representation in Python \n",
    "def addEdge(adj, u, v):\n",
    "    adj[u].append(v)\n",
    "    adj[v].append(u)\n",
    "\n",
    "\n",
    "def printGraph(adj):\n",
    "    for u, l in enumerate(adj):\n",
    "        print(u, l)\n",
    "\n",
    "\n",
    "# main\n",
    "\n",
    "v = 4\n",
    "\n",
    "adj = [[] for i in range(v)]\n",
    "addEdge(adj, 0, 1)\n",
    "addEdge(adj, 0, 2)\n",
    "addEdge(adj, 1, 2)\n",
    "addEdge(adj, 1, 3)\n",
    "\n",
    "printGraph(adj)\n"
   ]
  },
  {
   "cell_type": "code",
   "execution_count": null,
   "metadata": {},
   "outputs": [],
   "source": []
  }
 ]
}