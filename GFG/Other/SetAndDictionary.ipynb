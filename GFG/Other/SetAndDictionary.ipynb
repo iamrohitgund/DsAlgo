{
 "metadata": {
  "language_info": {
   "codemirror_mode": {
    "name": "ipython",
    "version": 3
   },
   "file_extension": ".py",
   "mimetype": "text/x-python",
   "name": "python",
   "nbconvert_exporter": "python",
   "pygments_lexer": "ipython3",
   "version": "3.7.3"
  },
  "orig_nbformat": 2,
  "kernelspec": {
   "name": "python3",
   "display_name": "Python 3.7.3 64-bit ('base': conda)",
   "metadata": {
    "interpreter": {
     "hash": "755dcdc6c0229edae11176875df8d9e9642fceccc0e87c120336ec3f6690aed2"
    }
   }
  }
 },
 "nbformat": 4,
 "nbformat_minor": 2,
 "cells": [
  {
   "source": [
    "# Set in Python\n",
    "- only distinct elements\n",
    "- uordered\n",
    "- no indexing\n",
    "- union, intersection, set difference, etc. are fast\n",
    "- uses hashing internally\n"
   ],
   "cell_type": "markdown",
   "metadata": {}
  },
  {
   "cell_type": "code",
   "execution_count": 2,
   "metadata": {},
   "outputs": [
    {
     "output_type": "stream",
     "name": "stdout",
     "text": [
      "{10, 20, 30}\n{40, 20, 30}\nexpected type set <class 'dict'>\n<class 'set'>\nset()\n"
     ]
    }
   ],
   "source": [
    "s1 = {10, 20, 30}\n",
    "\n",
    "print(s1)\n",
    "\n",
    "s2 = set([20, 30, 40])\n",
    "\n",
    "print(s2)\n",
    "\n",
    "s3 = {}\n",
    "\n",
    "print('expected type set',type(s3))\n",
    "\n",
    "s4 = set()\n",
    "\n",
    "print(type(s4))\n",
    "\n",
    "print(s4)\n"
   ]
  },
  {
   "source": [
    "#insertion"
   ],
   "cell_type": "markdown",
   "metadata": {}
  },
  {
   "cell_type": "code",
   "execution_count": 3,
   "metadata": {},
   "outputs": [
    {
     "output_type": "stream",
     "name": "stdout",
     "text": [
      "{10, 20, 30}\n{10, 20, 30}\n{40, 10, 50, 20, 30}\n{70, 40, 10, 80, 50, 20, 90, 60, 30}\n"
     ]
    }
   ],
   "source": [
    "s = {10, 20}\n",
    "\n",
    "s.add(30)\n",
    "\n",
    "print(s)\n",
    "\n",
    "s.add(30)  # adding duplicate items\n",
    "print(s)\n",
    "\n",
    "s.update([40, 50])\n",
    "\n",
    "print(s)\n",
    "\n",
    "s.update([60, 70], [80, 90])  # inserting multiple list\n",
    "\n",
    "print(s)\n"
   ]
  },
  {
   "source": [
    "#deletion"
   ],
   "cell_type": "markdown",
   "metadata": {}
  },
  {
   "cell_type": "code",
   "execution_count": 4,
   "metadata": {},
   "outputs": [
    {
     "output_type": "stream",
     "name": "stdout",
     "text": [
      "{40, 10, 20}\n{40, 10}\nset()\n"
     ]
    }
   ],
   "source": [
    "s = {10, 30, 20, 40}\n",
    "\n",
    "s.discard(30)\n",
    "\n",
    "print(s)\n",
    "\n",
    "s.remove(20)\n",
    "\n",
    "print(s)\n",
    "\n",
    "s.clear()\n",
    "\n",
    "print(s)\n",
    "\n",
    "s.add(50)\n",
    "\n",
    "del s\n"
   ]
  },
  {
   "source": [
    "Set Operations part 1"
   ],
   "cell_type": "markdown",
   "metadata": {}
  },
  {
   "cell_type": "code",
   "execution_count": 7,
   "metadata": {},
   "outputs": [
    {
     "output_type": "stream",
     "name": "stdout",
     "text": [
      "{8, 2, 4, 6}\n{9, 3, 6}\n4\nTrue\nunion  {2, 3, 4, 6, 8, 9}\n{2, 3, 4, 6, 8, 9}\nintersecton {6}\n{6}\npresent in s1, but not present in s2 {8, 2, 4}\n{8, 2, 4}\nsymmetric differences, not present in both {2, 3, 4, 8, 9}\n{2, 3, 4, 8, 9}\n"
     ]
    }
   ],
   "source": [
    "s1 = {2, 4, 6, 8}\n",
    "print(s1)\n",
    "print (s2)\n",
    "print(len(s1))\n",
    "print(2 in s1)\n",
    "s2 = {3, 6, 9}\n",
    "\n",
    "print('union ', s1 | s2)\n",
    "print(s1.union(s2))\n",
    "\n",
    "print('intersecton', s1 & s2)\n",
    "print(s1.intersection(s2))\n",
    "\n",
    "print('present in s1, but not present in s2', s1 - s2)\n",
    "print(s1.difference(s2))\n",
    "\n",
    "print('symmetric differences, not present in both', s1 ^ s2)\n",
    "#alt way \n",
    "print(s1.symmetric_difference(s2))\n"
   ]
  },
  {
   "source": [
    "Set operations Part 2"
   ],
   "cell_type": "markdown",
   "metadata": {}
  },
  {
   "cell_type": "code",
   "execution_count": 8,
   "metadata": {},
   "outputs": [
    {
     "output_type": "stream",
     "name": "stdout",
     "text": [
      "disjoint sets: False\nisSubset: False\nFalse\nproper set: False\ns1 is superset of s2: True\nTrue\ns1 is proper superset of s2: True\n"
     ]
    }
   ],
   "source": [
    "s1 = {2, 4, 6, 8}\n",
    "s2 = {4, 8}\n",
    "\n",
    "print('disjoint sets:', s1.isdisjoint(s2))\n",
    "\n",
    "print('isSubset:', s1 <= s2)\n",
    "print(s1.issubset(s2))\n",
    "\n",
    "print('proper set:', s1 < s2)\n",
    "\n",
    "print('s1 is superset of s2:', s1 >= s2)\n",
    "print(s1.issuperset(s2))\n",
    "\n",
    "print('s1 is proper superset of s2:', s1 > s2)\n"
   ]
  },
  {
   "source": [
    "# Dictionary in Python\n",
    "- Collection of key-value pairs\n",
    "- uordered\n",
    "- all keys must be distinct\n",
    "- values may be repeated\n",
    "- uses hashing internally"
   ],
   "cell_type": "markdown",
   "metadata": {}
  },
  {
   "source": [
    "creation\n"
   ],
   "cell_type": "markdown",
   "metadata": {}
  },
  {
   "cell_type": "code",
   "execution_count": 11,
   "metadata": {},
   "outputs": [
    {
     "output_type": "stream",
     "name": "stdout",
     "text": [
      "{110: 'abc', 101: 'xyz', 105: 'pqr'}\n{'laptop': 40000, 'mobile': 15000, 'earphone': 1000}\n15000\n"
     ]
    }
   ],
   "source": [
    "d = {110: 'abc', 101: 'xyz', 105: 'pqr'}\n",
    "\n",
    "print(d)\n",
    "\n",
    "d = {}\n",
    "d['laptop'] = 40000\n",
    "d['mobile'] = 15000\n",
    "d['earphone'] = 1000\n",
    "\n",
    "print(d)\n",
    "\n",
    "print(d['mobile'])\n"
   ]
  },
  {
   "source": [
    "Accesing"
   ],
   "cell_type": "markdown",
   "metadata": {}
  },
  {
   "cell_type": "code",
   "execution_count": 12,
   "metadata": {},
   "outputs": [
    {
     "output_type": "stream",
     "name": "stdout",
     "text": [
      "xyz\nNone\nNA\nNA\n"
     ]
    }
   ],
   "source": [
    "d = {110: 'abc', 101: 'xyz', 105: 'pqr'}\n",
    "\n",
    "print(d.get(101))\n",
    "\n",
    "print(d.get(125))\n",
    "\n",
    "print(d.get(125, \"NA\"))\n",
    "\n",
    "if 125 in d:\n",
    "    print(d[125])\n",
    "else:\n",
    "    print(\"NA\")\n"
   ]
  },
  {
   "source": [
    "Removal"
   ],
   "cell_type": "markdown",
   "metadata": {}
  },
  {
   "cell_type": "code",
   "execution_count": 14,
   "metadata": {},
   "outputs": [
    {
     "output_type": "stream",
     "name": "stdout",
     "text": [
      "4\n{110: 'abc', 101: 'wxy', 105: 'pqr', 106: 'bcd'}\nreturning and removing 105 pqr\nafter removing 105 {110: 'abc', 101: 'wxy', 106: 'bcd'}\n{110: 'abc', 101: 'wxy'}\nreturning and removing last inserted (108, 'cde')\n"
     ]
    }
   ],
   "source": [
    "d = {110: 'abc', 101: 'xyz', 105: 'pqr', 106: 'bcd'}\n",
    "\n",
    "d[101] = 'wxy'\n",
    "\n",
    "print(len(d))\n",
    "\n",
    "print(d)\n",
    "\n",
    "print('returning and removing 105', d.pop(105))\n",
    "\n",
    "print('after removing 105', d)\n",
    "\n",
    "del d[106]\n",
    "\n",
    "print(d)\n",
    "\n",
    "d[108] = 'cde'\n",
    "\n",
    "print('returning and removing last inserted', d.popitem())\n",
    "\n"
   ]
  },
  {
   "cell_type": "code",
   "execution_count": null,
   "metadata": {},
   "outputs": [],
   "source": []
  }
 ]
}
