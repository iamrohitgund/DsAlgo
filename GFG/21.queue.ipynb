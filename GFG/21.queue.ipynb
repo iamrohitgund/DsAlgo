{
 "metadata": {
  "language_info": {
   "codemirror_mode": {
    "name": "ipython",
    "version": 3
   },
   "file_extension": ".py",
   "mimetype": "text/x-python",
   "name": "python",
   "nbconvert_exporter": "python",
   "pygments_lexer": "ipython3",
   "version": "3.9.2-final"
  },
  "orig_nbformat": 2,
  "kernelspec": {
   "name": "python3",
   "display_name": "Python 3.9.2 64-bit",
   "metadata": {
    "interpreter": {
     "hash": "7812ea015bdcee6f23a998adcdd2ef97c151c0c241b7b7070987d9313e41299d"
    }
   }
  }
 },
 "nbformat": 4,
 "nbformat_minor": 2,
 "cells": [
  {
   "cell_type": "code",
   "execution_count": 1,
   "metadata": {},
   "outputs": [
    {
     "output_type": "stream",
     "name": "stdout",
     "text": [
      "[10, 20, 30]\n10\n[20, 30]\n[20, 30, 40]\n20\n[30, 40]\n2\n30\n40\n"
     ]
    }
   ],
   "source": [
    "#Queue\n",
    "q = []\n",
    "q.append(10)\n",
    "q.append(20)\n",
    "q.append(30)\n",
    "\n",
    "print(q)\n",
    "print(q.pop(0))\n",
    "print(q)\n",
    "q.append(40)\n",
    "print(q)\n",
    "print(q.pop(0))\n",
    "print(q)\n",
    "print(len(q))\n",
    "print(q[0])\n",
    "print(q[-1])\n"
   ]
  },
  {
   "cell_type": "code",
   "execution_count": 2,
   "metadata": {},
   "outputs": [
    {
     "output_type": "stream",
     "name": "stdout",
     "text": [
      "deque([10, 20, 30])\n10\n20\n2\n30\n40\n"
     ]
    }
   ],
   "source": [
    "from _collections import deque\n",
    "\n",
    "q = deque()\n",
    "\n",
    "q.append(10)\n",
    "q.append(20)\n",
    "q.append(30)\n",
    "print(q)\n",
    "print(q.popleft())\n",
    "q.append(40)\n",
    "print(q.popleft())\n",
    "print(len(q))\n",
    "print(q[0])\n",
    "print(q[-1])"
   ]
  },
  {
   "cell_type": "code",
   "execution_count": 3,
   "metadata": {},
   "outputs": [
    {
     "output_type": "stream",
     "name": "stdout",
     "text": [
      "10 10\n10 20\n10 30\n20 30\n"
     ]
    }
   ],
   "source": [
    "#Linked List Implementation of Queue in Python\n",
    "# code 3 (queue implementation with limked list )\n",
    "class Node:\n",
    "    def __init__(self, k):\n",
    "        self.key = k\n",
    "        self.next = None\n",
    "\n",
    "\n",
    "class MyQueue:\n",
    "    def __init__(self):\n",
    "        self.front = None\n",
    "        self.rear = None\n",
    "        self.sz = 0\n",
    "\n",
    "    def size(self):\n",
    "        return self.sz\n",
    "\n",
    "    def isEmpty(self):\n",
    "        return self.sz == 0\n",
    "\n",
    "    def getFront(self):\n",
    "        return self.front.key\n",
    "\n",
    "    def getRear(self):\n",
    "        return self.rear.key\n",
    "\n",
    "    def enque(self, x):\n",
    "        temp = Node(x)\n",
    "        if self.rear == None:\n",
    "            self.front = temp\n",
    "        else:\n",
    "            self.rear.next = temp\n",
    "\n",
    "        self.rear = temp\n",
    "        self.sz = self.sz + 1\n",
    "\n",
    "    def deque(self):\n",
    "        if self.front == None:\n",
    "            return None\n",
    "        else:\n",
    "            res = self.front.key\n",
    "            self.front = self.front.next\n",
    "            if self.front == None:\n",
    "                self.rear = None\n",
    "            self.sz = self.sz - 1\n",
    "            return res\n",
    "\n",
    "\n",
    "q = MyQueue()\n",
    "q.enque(10)\n",
    "print(q.getFront(), q.getRear())\n",
    "q.enque(20)\n",
    "print(q.getFront(), q.getRear())\n",
    "q.enque(30)\n",
    "print(q.getFront(), q.getRear())\n",
    "q.deque()\n",
    "print(q.getFront(), q.getRear())\n"
   ]
  },
  {
   "cell_type": "code",
   "execution_count": 7,
   "metadata": {},
   "outputs": [
    {
     "output_type": "stream",
     "name": "stdout",
     "text": [
      "10 10\n10 20\n10 30\n10 40\n20 40\n30 40\n30 50\n"
     ]
    }
   ],
   "source": [
    "#Queue Implementation using Circular List\n",
    "\n",
    "class MyQueue:\n",
    "\n",
    "    def __init__(self, c):\n",
    "        self.l = [None] * c\n",
    "        self.cap = c\n",
    "        self.size = 0\n",
    "        self.front = 0\n",
    "\n",
    "    def getFront(self):\n",
    "        if self.size == 0:\n",
    "            return None\n",
    "        else:\n",
    "\n",
    "            return self.l[self.front]\n",
    "\n",
    "    def getRear(self):\n",
    "        if self.size == 0:\n",
    "            return None\n",
    "        else:\n",
    "            rear = (self.front + self.size - 1) % self.cap\n",
    "            return self.l[rear]\n",
    "\n",
    "    def enque(self, x):\n",
    "        if self.size == self.cap:\n",
    "            return\n",
    "        else:\n",
    "            rear = (self.front + self.size - 1) % self.cap\n",
    "            rear = (rear + 1) % self.cap\n",
    "            self.l[rear] = x\n",
    "\n",
    "            self.size = self.size + 1\n",
    "\n",
    "    def deque(self):\n",
    "        if self.size == 0:\n",
    "            return None\n",
    "        else:\n",
    "            res = self.l[self.front]\n",
    "            self.front = (self.front + 1) % self.cap\n",
    "            self.size = self.size - 1\n",
    "\n",
    "            return res\n",
    "\n",
    "\n",
    "# main\n",
    "q = MyQueue(4)\n",
    "q.enque(10)\n",
    "print(q.getFront(), q.getRear())\n",
    "q.enque(20)\n",
    "print(q.getFront(), q.getRear())\n",
    "q.enque(30)\n",
    "print(q.getFront(), q.getRear())\n",
    "q.enque(40)\n",
    "print(q.getFront(), q.getRear())\n",
    "q.deque()\n",
    "print(q.getFront(), q.getRear())\n",
    "q.deque()\n",
    "print(q.getFront(), q.getRear())\n",
    "q.enque(50)\n",
    "print(q.getFront(), q.getRear())\n"
   ]
  },
  {
   "cell_type": "code",
   "execution_count": null,
   "metadata": {},
   "outputs": [],
   "source": []
  }
 ]
}