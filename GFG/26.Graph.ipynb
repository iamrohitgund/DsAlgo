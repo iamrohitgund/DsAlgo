{
 "metadata": {
  "language_info": {
   "codemirror_mode": {
    "name": "ipython",
    "version": 3
   },
   "file_extension": ".py",
   "mimetype": "text/x-python",
   "name": "python",
   "nbconvert_exporter": "python",
   "pygments_lexer": "ipython3",
   "version": "3.9.2-final"
  },
  "orig_nbformat": 2,
  "kernelspec": {
   "name": "python392jvsc74a57bd07812ea015bdcee6f23a998adcdd2ef97c151c0c241b7b7070987d9313e41299d",
   "display_name": "Python 3.9.2 64-bit"
  },
  "metadata": {
   "interpreter": {
    "hash": "7812ea015bdcee6f23a998adcdd2ef97c151c0c241b7b7070987d9313e41299d"
   }
  }
 },
 "nbformat": 4,
 "nbformat_minor": 2,
 "cells": [
  {
   "cell_type": "code",
   "execution_count": 1,
   "metadata": {},
   "outputs": [],
   "source": [
    "#Graph"
   ]
  },
  {
   "cell_type": "code",
   "execution_count": 2,
   "metadata": {},
   "outputs": [
    {
     "output_type": "stream",
     "name": "stdout",
     "text": [
      "0 [1, 2]\n1 [0, 2, 3]\n2 [0, 1]\n3 [1]\n"
     ]
    }
   ],
   "source": [
    "#Graph Adjacency List Representation in Python \n",
    "def addEdge(adj, u, v):\n",
    "    adj[u].append(v)\n",
    "    adj[v].append(u)\n",
    "\n",
    "\n",
    "def printGraph(adj):\n",
    "    for u, l in enumerate(adj):\n",
    "        print(u, l)\n",
    "\n",
    "\n",
    "# main\n",
    "\n",
    "v = 4\n",
    "\n",
    "adj = [[] for i in range(v)]\n",
    "addEdge(adj, 0, 1)\n",
    "addEdge(adj, 0, 2)\n",
    "addEdge(adj, 1, 2)\n",
    "addEdge(adj, 1, 3)\n",
    "\n",
    "printGraph(adj)\n"
   ]
  },
  {
   "cell_type": "code",
   "execution_count": 1,
   "metadata": {},
   "outputs": [
    {
     "output_type": "stream",
     "name": "stdout",
     "text": [
      "0 [1, 2]\n1 [0, 2, 3]\n2 [0, 1, 3, 4]\n3 [1, 2, 4]\n4 [2, 3]\n\nBFS path\n0 1 2 3 4 "
     ]
    }
   ],
   "source": [
    "#Breadth First Search in Python\n",
    "from collections import deque\n",
    "\n",
    "def addEdge(adj, u, v):\n",
    "    adj[u].append(v)\n",
    "    adj[v].append(u)\n",
    "\n",
    "def BFS(adj,s):\n",
    "    visited = [False]*len(adj)\n",
    "\n",
    "    q= deque()\n",
    "    q.append(s)\n",
    "    visited[s] = True\n",
    "\n",
    "    while q:\n",
    "        s = q.popleft()\n",
    "        print(s,end=' ')\n",
    "\n",
    "        for u in adj[s]:\n",
    "            if visited[u] == False:\n",
    "                q.append(u)\n",
    "                visited[u] = True\n",
    "\n",
    "\n",
    "def printGraph(adj):\n",
    "    for u, l in enumerate(adj):\n",
    "        print(u, l)\n",
    "\n",
    "\n",
    "# main\n",
    "\n",
    "v = 4\n",
    "\n",
    "adj = [[1, 2], [0, 2, 3], [0, 1, 3, 4], [1, 2, 4], [2, 3]]\n",
    "\n",
    "printGraph(adj)\n",
    "\n",
    "s=0 # starting\n",
    "\n",
    "print('\\nBFS path')\n",
    "BFS(adj,s)\n"
   ]
  },
  {
   "cell_type": "code",
   "execution_count": 1,
   "metadata": {},
   "outputs": [
    {
     "output_type": "stream",
     "name": "stdout",
     "text": [
      "0 [1, 2]\n1 [0, 3]\n2 [0, 3]\n3 [1, 2]\n4 [5, 6]\n5 [4, 6]\n6 [4, 5]\n\nBFS path\n0 1 2 3 4 5 6 "
     ]
    }
   ],
   "source": [
    "#BFS for Dsiconnected Graph\n",
    "from collections import deque\n",
    "\n",
    "\n",
    "def addEdge(adj, u, v):\n",
    "    adj[u].append(v)\n",
    "    adj[v].append(u)\n",
    "\n",
    "\n",
    "def BFS(adj, s, visited):\n",
    "    q = deque()\n",
    "    q.append(s)\n",
    "    visited[s] = True\n",
    "\n",
    "    while q:\n",
    "        s = q.popleft()\n",
    "        print(s, end=' ')\n",
    "\n",
    "        for u in adj[s]:\n",
    "            if visited[u] == False:\n",
    "                q.append(u)\n",
    "                visited[u] = True\n",
    "\n",
    "\n",
    "def BFSDis(adj):\n",
    "    visited = [False] * len(adj)\n",
    "\n",
    "    for u in range(len(adj)):\n",
    "        if visited[u] == False:\n",
    "            BFS(adj, u, visited)\n",
    "\n",
    "\n",
    "def printGraph(adj):\n",
    "    for u, l in enumerate(adj):\n",
    "        print(u, l)\n",
    "\n",
    "\n",
    "# main\n",
    "\n",
    "v = 7\n",
    "\n",
    "adj = [[1, 2], [0, 3], [0, 3], [1, 2], [5, 6], [4, 6], [4, 5]]\n",
    "\n",
    "printGraph(adj)\n",
    "\n",
    "print('\\nBFS path')\n",
    "BFSDis(adj)\n"
   ]
  },
  {
   "cell_type": "code",
   "execution_count": 2,
   "metadata": {},
   "outputs": [
    {
     "output_type": "stream",
     "name": "stdout",
     "text": [
      "0 [1, 2]\n1 [0, 2]\n2 [0, 1]\n3 [4]\n4 [3]\n5 [6, 7]\n6 [5]\n7 [5]\n\nconnected component\n0 1 2 \n3 4 \n5 6 7 \nno of connected component 3\n"
     ]
    }
   ],
   "source": [
    "#Connected Components in an Undirected Graph using BFS\n",
    "from collections import deque\n",
    "\n",
    "\n",
    "def addEdge(adj, u, v):\n",
    "    adj[u].append(v)\n",
    "    adj[v].append(u)\n",
    "\n",
    "\n",
    "def BFS(adj, s, visited):\n",
    "    q = deque()\n",
    "    q.append(s)\n",
    "    visited[s] = True\n",
    "\n",
    "    while q:\n",
    "        s = q.popleft()\n",
    "        print(s, end=' ')\n",
    "\n",
    "        for u in adj[s]:\n",
    "            if visited[u] == False:\n",
    "                q.append(u)\n",
    "                visited[u] = True\n",
    "\n",
    "    print()\n",
    "\n",
    "\n",
    "def BFSDis(adj):\n",
    "    visited = [False] * len(adj)\n",
    "\n",
    "    res = 0\n",
    "\n",
    "    for u in range(len(adj)):\n",
    "        if visited[u] == False:\n",
    "            res+=1\n",
    "            BFS(adj, u, visited)\n",
    "\n",
    "    return res\n",
    "\n",
    "\n",
    "def printGraph(adj):\n",
    "    for u, l in enumerate(adj):\n",
    "        print(u, l)\n",
    "\n",
    "\n",
    "# main\n",
    "\n",
    "v = 8\n",
    "\n",
    "adj = [[1, 2], [0, 2], [0, 1], [4], [3], [6,7], [5],[5]]\n",
    "\n",
    "printGraph(adj)\n",
    "\n",
    "print('\\nconnected component')\n",
    "print('no of connected component',BFSDis(adj))\n"
   ]
  },
  {
   "cell_type": "code",
   "execution_count": 3,
   "metadata": {},
   "outputs": [
    {
     "output_type": "stream",
     "name": "stdout",
     "text": [
      "0 [1, 2]\n1 [0, 3, 4]\n2 [0, 3]\n3 [1, 2, 4]\n4 [1, 3]\n0 1 3 2 4 "
     ]
    }
   ],
   "source": [
    "#Depth First Search\n",
    "def DFSRec(adj, s, visited):\n",
    "    visited[s] = True\n",
    "\n",
    "    print(s, end=' ')\n",
    "\n",
    "    for u in adj[s]:\n",
    "\n",
    "        if visited[u] == False:\n",
    "            DFSRec(adj, u, visited)\n",
    "\n",
    "\n",
    "def DFS(adj, s):\n",
    "    visited = [False] * len(adj)\n",
    "    DFSRec(adj, s, visited)\n",
    "\n",
    "\n",
    "def printGraph(adj):\n",
    "    for u, l in enumerate(adj):\n",
    "        print(u, l)\n",
    "\n",
    "\n",
    "adj = [[1, 2], [0, 3, 4], [0, 3], [1, 2, 4], [1, 3]]\n",
    "\n",
    "printGraph(adj)\n",
    "\n",
    "DFS(adj, 0)\n"
   ]
  },
  {
   "cell_type": "code",
   "execution_count": 4,
   "metadata": {},
   "outputs": [
    {
     "output_type": "stream",
     "name": "stdout",
     "text": [
      "0 [1, 2]\n1 [0, 2]\n2 [0, 1]\n3 [4]\n4 [3]\n0 1 2 3 4 "
     ]
    }
   ],
   "source": [
    "#DFS For Disconnected Graph \n",
    "def DFSRec(adj, s, visited):\n",
    "    visited[s] = True\n",
    "\n",
    "    print(s, end=' ')\n",
    "\n",
    "    for u in adj[s]:\n",
    "\n",
    "        if visited[u] == False:\n",
    "            DFSRec(adj, u, visited)\n",
    "\n",
    "\n",
    "def DFS(adj):\n",
    "    visited = [False] * len(adj)\n",
    "\n",
    "    for u in range(len(adj)):\n",
    "        if visited[u] == False:\n",
    "            DFSRec(adj, u, visited)\n",
    "\n",
    "\n",
    "def printGraph(adj):\n",
    "    for u, l in enumerate(adj):\n",
    "        print(u, l)\n",
    "\n",
    "\n",
    "adj = [[1, 2], [0, 2], [0, 1], [4], [3]]\n",
    "\n",
    "printGraph(adj)\n",
    "\n",
    "DFS(adj)\n"
   ]
  },
  {
   "cell_type": "code",
   "execution_count": 5,
   "metadata": {},
   "outputs": [
    {
     "output_type": "stream",
     "name": "stdout",
     "text": [
      "0 [1, 2]\n1 [0, 2]\n2 [0, 1]\n3 [4]\n4 [3]\nconnected component\n0 1 2 \n3 4 \nno of connected component  2\n"
     ]
    }
   ],
   "source": [
    "#Counting Connected Components in an Undirected Graph using DFS\n",
    "def DFSRec(adj, s, visited):\n",
    "    visited[s] = True\n",
    "\n",
    "    print(s, end=' ')\n",
    "\n",
    "    for u in adj[s]:\n",
    "\n",
    "        if visited[u] == False:\n",
    "            DFSRec(adj, u, visited)\n",
    "\n",
    "\n",
    "def DFS(adj):\n",
    "    visited = [False] * len(adj)\n",
    "    res = 0\n",
    "    for u in range(len(adj)):\n",
    "        if visited[u] == False:\n",
    "            res+=1\n",
    "            DFSRec(adj, u, visited)\n",
    "            print()\n",
    "\n",
    "    return res\n",
    "\n",
    "\n",
    "def printGraph(adj):\n",
    "    for u, l in enumerate(adj):\n",
    "        print(u, l)\n",
    "\n",
    "\n",
    "adj = [[1, 2], [0, 2], [0, 1], [4], [3]]\n",
    "\n",
    "printGraph(adj)\n",
    "\n",
    "print('connected component')\n",
    "print('no of connected component ',DFS(adj))\n"
   ]
  },
  {
   "cell_type": "code",
   "execution_count": null,
   "metadata": {},
   "outputs": [],
   "source": [
    "#Graph added on github\n",
    "\n",
    "#Graph Problems"
   ]
  }
 ]
}