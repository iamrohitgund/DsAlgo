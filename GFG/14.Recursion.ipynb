{
 "metadata": {
  "language_info": {
   "codemirror_mode": {
    "name": "ipython",
    "version": 3
   },
   "file_extension": ".py",
   "mimetype": "text/x-python",
   "name": "python",
   "nbconvert_exporter": "python",
   "pygments_lexer": "ipython3",
   "version": "3.7.3-final"
  },
  "orig_nbformat": 2,
  "kernelspec": {
   "name": "python3",
   "display_name": "Python 3.7.3 64-bit ('base': conda)",
   "metadata": {
    "interpreter": {
     "hash": "755dcdc6c0229edae11176875df8d9e9642fceccc0e87c120336ec3f6690aed2"
    }
   }
  }
 },
 "nbformat": 4,
 "nbformat_minor": 2,
 "cells": [
  {
   "source": [
    "#Recursion"
   ],
   "cell_type": "markdown",
   "metadata": {}
  },
  {
   "cell_type": "code",
   "execution_count": 2,
   "metadata": {},
   "outputs": [
    {
     "output_type": "stream",
     "name": "stdout",
     "text": [
      "Before fun2()\nBefore fun1()\nfun1 called\nAfter fun1()\nAfter fun2()\n"
     ]
    }
   ],
   "source": [
    "#Background\n",
    "def fun1():\n",
    "    print(\"fun1 called\")\n",
    "\n",
    "\n",
    "def fun2():\n",
    "    print(\"Before fun1()\")\n",
    "    fun1()\n",
    "    print(\"After fun1()\")\n",
    "\n",
    "\n",
    "print(\"Before fun2()\")\n",
    "fun2()\n",
    "print(\"After fun2()\")\n"
   ]
  },
  {
   "cell_type": "code",
   "execution_count": 6,
   "metadata": {},
   "outputs": [
    {
     "output_type": "stream",
     "name": "stdout",
     "text": [
      "GFG\nGFG\nGFG\n"
     ]
    }
   ],
   "source": [
    "def fun(n):\n",
    "    if n == 0:\n",
    "        return\n",
    "    print(\"GFG\")\n",
    "    fun(n - 1)\n",
    "\n",
    "\n",
    "fun(3)\n"
   ]
  },
  {
   "cell_type": "code",
   "execution_count": 7,
   "metadata": {},
   "outputs": [
    {
     "output_type": "stream",
     "name": "stdout",
     "text": [
      "3\n2\n1\n1\n2\n3\n"
     ]
    }
   ],
   "source": [
    "#Part 1 Examples\n",
    "def fun(n):\n",
    "    if n == 0:\n",
    "        return\n",
    "    print(n)\n",
    "    fun(n - 1)\n",
    "    print(n)\n",
    "\n",
    "\n",
    "fun(3)\n"
   ]
  },
  {
   "cell_type": "code",
   "execution_count": 9,
   "metadata": {},
   "outputs": [
    {
     "output_type": "stream",
     "name": "stdout",
     "text": [
      "1\n2\n1\n3\n1\n2\n1\n"
     ]
    }
   ],
   "source": [
    "#Part1 Examples\n",
    "def fun(n):\n",
    "    if n == 0:\n",
    "        return\n",
    "    fun(n - 1)\n",
    "    print(n)\n",
    "    fun(n - 1)\n",
    "\n",
    "\n",
    "fun(3)\n"
   ]
  },
  {
   "cell_type": "code",
   "execution_count": 10,
   "metadata": {},
   "outputs": [
    {
     "output_type": "stream",
     "name": "stdout",
     "text": [
      "4\n"
     ]
    }
   ],
   "source": [
    "#Part2 Examples\n",
    "def fun(n):\n",
    "    if n <= 1:\n",
    "        return 0\n",
    "    else:\n",
    "        return 1 + fun(n / 2)\n",
    "\n",
    "\n",
    "fun(16)\n",
    "print(fun(16))\n"
   ]
  },
  {
   "cell_type": "code",
   "execution_count": 11,
   "metadata": {},
   "outputs": [
    {
     "output_type": "stream",
     "name": "stdout",
     "text": [
      "1\n1\n0\n1\n"
     ]
    }
   ],
   "source": [
    "#Part2 Examples\n",
    "#This function is coverting decimal number to binary number\n",
    "def fun(n):\n",
    "    if n == 0:\n",
    "        return\n",
    "    fun(n//2)\n",
    "    print(n % 2)\n",
    "\n",
    "\n",
    "fun(13)\n"
   ]
  },
  {
   "source": [
    "#Sum of N natural numbers using recursion\n"
   ],
   "cell_type": "markdown",
   "metadata": {}
  },
  {
   "cell_type": "code",
   "execution_count": 13,
   "metadata": {},
   "outputs": [
    {
     "output_type": "stream",
     "name": "stdout",
     "text": [
      "Sum is: 15.0\n"
     ]
    }
   ],
   "source": [
    "n = int(input(\"Enter n:\"))\n",
    "sum = n * (n + 1) / 2\n",
    "print(\"Sum is:\", sum)"
   ]
  },
  {
   "source": [
    "#Print N to 1 numbers recursively"
   ],
   "cell_type": "markdown",
   "metadata": {}
  },
  {
   "cell_type": "code",
   "execution_count": 14,
   "metadata": {},
   "outputs": [
    {
     "output_type": "stream",
     "name": "stdout",
     "text": [
      "3\n2\n1\n"
     ]
    }
   ],
   "source": [
    "def printNo(n):\n",
    "    if n == 0:\n",
    "        return\n",
    "    print(n)\n",
    "    printNo(n - 1)\n",
    "\n",
    "n = 3\n",
    "printNo(n)"
   ]
  },
  {
   "source": [
    "#Print 1 to N numbers recursively"
   ],
   "cell_type": "markdown",
   "metadata": {}
  },
  {
   "cell_type": "code",
   "execution_count": 15,
   "metadata": {},
   "outputs": [
    {
     "output_type": "stream",
     "name": "stdout",
     "text": [
      "1\n2\n3\n"
     ]
    }
   ],
   "source": [
    "def printNo(n):\n",
    "    if n == 0:\n",
    "        return\n",
    "    printNo(n - 1)\n",
    "    print(n)\n",
    "    \n",
    "\n",
    "n = 3\n",
    "printNo(n)"
   ]
  },
  {
   "source": [
    "#Sum of digits eg. if user provide number 234 then output should be 2 + 3 + 4 = 9"
   ],
   "cell_type": "markdown",
   "metadata": {}
  },
  {
   "cell_type": "code",
   "execution_count": 23,
   "metadata": {},
   "outputs": [
    {
     "output_type": "stream",
     "name": "stdout",
     "text": [
      "253\nn //10 --> 25\nn % 10 --> 3\n____\n25\nn //10 --> 2\nn % 10 --> 5\n____\n10\n"
     ]
    }
   ],
   "source": [
    "def dSum(n):\n",
    "    if n < 10:\n",
    "        return n\n",
    "    \n",
    "    print(n)\n",
    "    print(\"n //10 -->\", n //10)\n",
    "    print(\"n % 10 -->\", n % 10)\n",
    "    print(\"____\")\n",
    "    \n",
    "    return dSum(n // 10) + n % 10\n",
    "\n",
    "print(dSum(253))"
   ]
  },
  {
   "source": [
    "#Tower of Hanoi"
   ],
   "cell_type": "markdown",
   "metadata": {}
  },
  {
   "cell_type": "code",
   "execution_count": 25,
   "metadata": {},
   "outputs": [
    {
     "output_type": "stream",
     "name": "stdout",
     "text": [
      "Move 1 from A to C\nMove 2 from A to B\nMove 1 from C to B\nMove 3 from A to C\nMove 1 from B to A\nMove 2 from B to C\nMove 1 from A to C\n"
     ]
    }
   ],
   "source": [
    "def THO(n, A, B, C):\n",
    "    if n == 1:\n",
    "        print(\"Move 1 from\", A, \"to\", C)\n",
    "    else:\n",
    "        THO(n - 1, A, C, B)\n",
    "        print(\"Move\", n, \"from\", A, \"to\", C)\n",
    "        THO(n - 1, B,A, C)\n",
    "\n",
    "\n",
    "THO(3, 'A', 'B','C' )\n",
    "\n",
    "\n"
   ]
  },
  {
   "source": [
    "#Josephus Problem"
   ],
   "cell_type": "markdown",
   "metadata": {}
  },
  {
   "cell_type": "code",
   "execution_count": 29,
   "metadata": {},
   "outputs": [
    {
     "output_type": "stream",
     "name": "stdout",
     "text": [
      "3\n"
     ]
    }
   ],
   "source": [
    "def jos(n, k):\n",
    "    if n == 1:\n",
    "        return 0\n",
    "    else:\n",
    "        return (jos(n - 1, k) + k) % n\n",
    "\n",
    "\n",
    "print(jos(5, 3))\n"
   ]
  },
  {
   "cell_type": "code",
   "execution_count": null,
   "metadata": {},
   "outputs": [],
   "source": []
  }
 ]
}