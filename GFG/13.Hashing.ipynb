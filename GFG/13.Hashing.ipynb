{
 "metadata": {
  "language_info": {
   "codemirror_mode": {
    "name": "ipython",
    "version": 3
   },
   "file_extension": ".py",
   "mimetype": "text/x-python",
   "name": "python",
   "nbconvert_exporter": "python",
   "pygments_lexer": "ipython3",
   "version": "3.9.2"
  },
  "orig_nbformat": 2,
  "kernelspec": {
   "name": "python392jvsc74a57bd07812ea015bdcee6f23a998adcdd2ef97c151c0c241b7b7070987d9313e41299d",
   "display_name": "Python 3.9.2 64-bit ('3.9')"
  },
  "metadata": {
   "interpreter": {
    "hash": "7812ea015bdcee6f23a998adcdd2ef97c151c0c241b7b7070987d9313e41299d"
   }
  }
 },
 "nbformat": 4,
 "nbformat_minor": 2,
 "cells": [
  {
   "cell_type": "code",
   "execution_count": 1,
   "metadata": {},
   "outputs": [],
   "source": [
    "#Hashing"
   ]
  },
  {
   "cell_type": "code",
   "execution_count": 2,
   "metadata": {},
   "outputs": [
    {
     "output_type": "stream",
     "name": "stdout",
     "text": [
      "True\nFalse\n"
     ]
    }
   ],
   "source": [
    "#Implementation of Chaining in Python\n",
    "class MyHash:\n",
    "    def __init__(self, b):\n",
    "        self.BUCKET = b\n",
    "        self.table = [[] for x in range(b)]\n",
    "\n",
    "    def insert(self, x):\n",
    "        i = x % self.BUCKET\n",
    "        self.table[i].append(x)\n",
    "\n",
    "    def remove(self, x):\n",
    "        i = x % self.BUCKET\n",
    "        if x in self.table[i]:\n",
    "            self.table[i].remove(x)\n",
    "\n",
    "    def search(self, x):\n",
    "        i = x % self.BUCKET\n",
    "        return x in self.table[i]\n",
    "\n",
    "\n",
    "h = MyHash(7)\n",
    "h.insert(70)\n",
    "h.insert(71)\n",
    "h.insert(9)\n",
    "h.insert(56)\n",
    "h.insert(72)\n",
    "print(h.search(56))\n",
    "h.remove(56)\n",
    "print(h.search(56))\n",
    "h.remove(56)\n"
   ]
  },
  {
   "cell_type": "code",
   "execution_count": 3,
   "metadata": {},
   "outputs": [
    {
     "output_type": "stream",
     "name": "stdout",
     "text": [
      "True\nFalse\n"
     ]
    },
    {
     "output_type": "execute_result",
     "data": {
      "text/plain": [
       "False"
      ]
     },
     "metadata": {},
     "execution_count": 3
    }
   ],
   "source": [
    "#Implementation of Open Addressing\n",
    "class MyHash:\n",
    "    def __init__(self, c):\n",
    "        self.cap = c\n",
    "        self.table = [-1] * c\n",
    "        self.size = 0\n",
    "\n",
    "    def hash(self, x):\n",
    "        return x % self.cap\n",
    "\n",
    "    def search(self, x):\n",
    "        h = self.hash(x)\n",
    "        t = self.table\n",
    "        i = h\n",
    "        while t[i] != -1:\n",
    "            if t[i] == x:\n",
    "                return True\n",
    "            i = (i + 1) % self.cap\n",
    "            if i == h:\n",
    "                return False\n",
    "        return False\n",
    "\n",
    "    def insert(self, x):\n",
    "        if self.size == self.cap:\n",
    "            return False\n",
    "\n",
    "        if self.search(x) == True:\n",
    "            return False\n",
    "        i = self.hash(x)\n",
    "        t = self.table\n",
    "        while t[i] not in (-1, -2):\n",
    "            i = (i + 1) % self.cap\n",
    "\n",
    "        t[i] = x\n",
    "        self.size = self.size + 1\n",
    "        return True\n",
    "\n",
    "    def remove(self, x):\n",
    "        h = self.hash(x)\n",
    "        t = self.table\n",
    "        i = h\n",
    "        while t[i] != -1:\n",
    "            if t[i] == x:\n",
    "                t[i] = -2\n",
    "                return True\n",
    "            i = (i + 1) % self.cap\n",
    "            if i == h:\n",
    "                return False\n",
    "        return False\n",
    "\n",
    "\n",
    "h = MyHash(7)\n",
    "h.insert(70)\n",
    "h.insert(71)\n",
    "h.insert(9)\n",
    "h.insert(56)\n",
    "h.insert(72)\n",
    "print(h.search(56))\n",
    "h.remove(56)\n",
    "print(h.search(56))\n",
    "h.remove(56)\n",
    "\n"
   ]
  },
  {
   "cell_type": "code",
   "execution_count": 4,
   "metadata": {},
   "outputs": [],
   "source": [
    "#Sets in Python"
   ]
  },
  {
   "cell_type": "code",
   "execution_count": 5,
   "metadata": {},
   "outputs": [
    {
     "output_type": "stream",
     "name": "stdout",
     "text": [
      "{10, 20, 30}\n{40, 20, 30}\nexpected type set <class 'dict'>\n<class 'set'>\nset()\n"
     ]
    }
   ],
   "source": [
    "#Creation\n",
    "s1 = {10, 20, 30}\n",
    "\n",
    "print(s1)\n",
    "\n",
    "s2 = set([20, 30, 40])\n",
    "\n",
    "print(s2)\n",
    "\n",
    "s3 = {}\n",
    "\n",
    "print('expected type set',type(s3))\n",
    "\n",
    "s4 = set()\n",
    "\n",
    "print(type(s4))\n",
    "\n",
    "print(s4)\n"
   ]
  },
  {
   "cell_type": "code",
   "execution_count": 6,
   "metadata": {},
   "outputs": [
    {
     "output_type": "stream",
     "name": "stdout",
     "text": [
      "{10, 20, 30}\n{10, 20, 30}\n{40, 10, 50, 20, 30}\n{70, 40, 10, 80, 50, 20, 90, 60, 30}\n"
     ]
    }
   ],
   "source": [
    "#Insertion\n",
    "s = {10, 20}\n",
    "\n",
    "s.add(30)\n",
    "\n",
    "print(s)\n",
    "\n",
    "s.add(30)  # adding duplicate items\n",
    "print(s)\n",
    "\n",
    "s.update([40, 50])\n",
    "\n",
    "print(s)\n",
    "\n",
    "s.update([60, 70], [80, 90])  # inserting multiple list\n",
    "\n",
    "print(s)\n",
    "\n"
   ]
  },
  {
   "cell_type": "code",
   "execution_count": 7,
   "metadata": {},
   "outputs": [
    {
     "output_type": "stream",
     "name": "stdout",
     "text": [
      "{40, 10, 20}\n{40, 10}\nset()\n"
     ]
    }
   ],
   "source": [
    "#Removal\n",
    "\n",
    "s = {10, 30, 20, 40}\n",
    "\n",
    "s.discard(30)\n",
    "\n",
    "print(s)\n",
    "\n",
    "s.remove(20)\n",
    "\n",
    "print(s)\n",
    "\n",
    "s.clear()\n",
    "\n",
    "print(s)\n",
    "\n",
    "s.add(50)\n",
    "\n",
    "del s\n"
   ]
  },
  {
   "cell_type": "code",
   "execution_count": 8,
   "metadata": {},
   "outputs": [
    {
     "output_type": "stream",
     "name": "stdout",
     "text": [
      "union  {2, 3, 4, 6, 8, 9}\n{2, 3, 4, 6, 8, 9}\nintersecton {6}\n{6}\npresent in s1, but not present in s2 {8, 2, 4}\n{8, 2, 4}\nsymmetric differences, not present in both {2, 3, 4, 8, 9}\n"
     ]
    }
   ],
   "source": [
    "#Operation on two set 1 \n",
    "\n",
    "s1 = {2, 4, 6, 8}\n",
    "\n",
    "s2 = {3, 6, 9}\n",
    "\n",
    "print('union ', s1 | s2)\n",
    "print(s1.union(s2))\n",
    "\n",
    "print('intersecton', s1 & s2)\n",
    "print(s1.intersection(s2))\n",
    "\n",
    "print('present in s1, but not present in s2', s1 - s2)\n",
    "print(s1.difference(s2))\n",
    "\n",
    "print('symmetric differences, not present in both', s1 ^ s2)\n"
   ]
  },
  {
   "cell_type": "code",
   "execution_count": 9,
   "metadata": {},
   "outputs": [
    {
     "output_type": "stream",
     "name": "stdout",
     "text": [
      "disjoint sets: False\nisSubset: False\nFalse\nproper set: False\ns1 is superset of s2: True\nTrue\ns1 is proper superset of s2: True\n"
     ]
    }
   ],
   "source": [
    "#Operation on two set 2  \n",
    "\n",
    "s1 = {2, 4, 6, 8}\n",
    "s2 = {4, 8}\n",
    "\n",
    "print('disjoint sets:', s1.isdisjoint(s2))\n",
    "\n",
    "print('isSubset:', s1 <= s2)\n",
    "print(s1.issubset(s2))\n",
    "\n",
    "print('proper set:', s1 < s2)\n",
    "\n",
    "print('s1 is superset of s2:', s1 >= s2)\n",
    "print(s1.issuperset(s2))\n",
    "\n",
    "print('s1 is proper superset of s2:', s1 > s2)\n"
   ]
  },
  {
   "cell_type": "code",
   "execution_count": 10,
   "metadata": {},
   "outputs": [],
   "source": [
    "#Dictionary in Python"
   ]
  },
  {
   "cell_type": "code",
   "execution_count": 11,
   "metadata": {},
   "outputs": [
    {
     "output_type": "stream",
     "name": "stdout",
     "text": [
      "{110: 'abc', 101: 'xyz', 105: 'pqr'}\n{'laptop': 40000, 'mobile': 15000, 'earphone': 1000}\n15000\n"
     ]
    }
   ],
   "source": [
    "#Creation \n",
    "\n",
    "d = {110: 'abc', 101: 'xyz', 105: 'pqr'}\n",
    "\n",
    "print(d)\n",
    "\n",
    "d = {}\n",
    "d['laptop'] = 40000\n",
    "d['mobile'] = 15000\n",
    "d['earphone'] = 1000\n",
    "\n",
    "print(d)\n",
    "\n",
    "print(d['mobile'])\n"
   ]
  },
  {
   "cell_type": "code",
   "execution_count": 12,
   "metadata": {},
   "outputs": [
    {
     "output_type": "stream",
     "name": "stdout",
     "text": [
      "xyz\nNone\nNA\nNA\n"
     ]
    }
   ],
   "source": [
    "#Accessing\n",
    "\n",
    "d = {110: 'abc', 101: 'xyz', 105: 'pqr'}\n",
    "\n",
    "print(d.get(101))\n",
    "\n",
    "print(d.get(125))\n",
    "\n",
    "print(d.get(125, \"NA\"))\n",
    "\n",
    "if 125 in d:\n",
    "    print(d[125])\n",
    "else:\n",
    "    print(\"NA\")\n"
   ]
  },
  {
   "cell_type": "code",
   "execution_count": 13,
   "metadata": {},
   "outputs": [
    {
     "output_type": "stream",
     "name": "stdout",
     "text": [
      "4\n{110: 'abc', 101: 'wxy', 105: 'pqr', 106: 'bcd'}\nreturning and removing 105 pqr\nafter removing 105 {110: 'abc', 101: 'wxy', 106: 'bcd'}\n{110: 'abc', 101: 'wxy'}\nreturning and removing last inserted (108, 'cde')\n"
     ]
    }
   ],
   "source": [
    "#Removal\n",
    "\n",
    "d = {110: 'abc', 101: 'xyz', 105: 'pqr', 106: 'bcd'}\n",
    "\n",
    "d[101] = 'wxy'\n",
    "\n",
    "print(len(d))\n",
    "\n",
    "print(d)\n",
    "\n",
    "print('returning and removing 105', d.pop(105))\n",
    "\n",
    "print('after removing 105', d)\n",
    "\n",
    "del d[106]\n",
    "\n",
    "print(d)\n",
    "\n",
    "d[108] = 'cde'\n",
    "\n",
    "print('returning and removing last inserted', d.popitem())\n",
    "\n"
   ]
  },
  {
   "cell_type": "code",
   "execution_count": 14,
   "metadata": {},
   "outputs": [
    {
     "output_type": "stream",
     "name": "stdout",
     "text": [
      "3\n3\n"
     ]
    }
   ],
   "source": [
    "#Count Distinct Elements in A List\n",
    "\n",
    "def cDistinct(l):\n",
    "    res = 1\n",
    "    \n",
    "    for i in range(1,len(l)):\n",
    "        if l[i] not in l[0:i]:\n",
    "            res = res+1\n",
    "    \n",
    "    return res\n",
    "    \n",
    "l = [10,20,10,30,30,20]\n",
    "\n",
    "print(cDistinct(l))\n",
    "\n",
    "\n",
    "def cDistinct2(l):\n",
    "    return len(set(l))\n",
    "\n",
    "print(cDistinct2(l))"
   ]
  },
  {
   "cell_type": "code",
   "execution_count": 17,
   "metadata": {},
   "outputs": [
    {
     "output_type": "stream",
     "name": "stdout",
     "text": [
      "True\n________________\nTrue\n"
     ]
    }
   ],
   "source": [
    "#Subarray With 0 Sum in Python\n",
    "\n",
    "#O(n^2)\n",
    "def isZeroSum(l):\n",
    "    n = len(l)\n",
    "\n",
    "    for i in range(n):\n",
    "\n",
    "        for j in range(i + 1, n + 1):\n",
    "\n",
    "            if sum(l[i:j]) == 0:\n",
    "                return True\n",
    "    return False\n",
    "\n",
    "\n",
    "l = [4, 3, -2, 1, 1]\n",
    "\n",
    "print(isZeroSum(l))\n",
    "\n",
    "print(\"________________\")\n",
    "#O(n)\n",
    "\n",
    "def isZeroSum(l):\n",
    "    pre_sum = 0\n",
    "\n",
    "    h = set()\n",
    "\n",
    "    for i in range(len(l)):\n",
    "        pre_sum += l[i]\n",
    "        if pre_sum == 0 or pre_sum in h:\n",
    "            return True\n",
    "        h.add(pre_sum)\n",
    "\n",
    "    return False\n",
    "\n",
    "l = [4, 3, -2, 1, 1]\n",
    "\n",
    "print(isZeroSum(l))"
   ]
  },
  {
   "source": [],
   "cell_type": "code",
   "metadata": {},
   "execution_count": null,
   "outputs": []
  }
 ]
}