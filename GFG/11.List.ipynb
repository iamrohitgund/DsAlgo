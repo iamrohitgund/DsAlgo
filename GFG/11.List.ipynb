{
 "metadata": {
  "language_info": {
   "codemirror_mode": {
    "name": "ipython",
    "version": 3
   },
   "file_extension": ".py",
   "mimetype": "text/x-python",
   "name": "python",
   "nbconvert_exporter": "python",
   "pygments_lexer": "ipython3",
   "version": "3.9.2-final"
  },
  "orig_nbformat": 2,
  "kernelspec": {
   "name": "python392jvsc74a57bd07812ea015bdcee6f23a998adcdd2ef97c151c0c241b7b7070987d9313e41299d",
   "display_name": "Python 3.9.2 64-bit"
  },
  "metadata": {
   "interpreter": {
    "hash": "7812ea015bdcee6f23a998adcdd2ef97c151c0c241b7b7070987d9313e41299d"
   }
  }
 },
 "nbformat": 4,
 "nbformat_minor": 2,
 "cells": [
  {
   "cell_type": "code",
   "execution_count": 1,
   "metadata": {},
   "outputs": [
    {
     "output_type": "stream",
     "name": "stdout",
     "text": [
      "[10, 20, 30, 40, 50]\n40\n20\n50\n40\n"
     ]
    }
   ],
   "source": [
    "#List item access \n",
    "l = [10, 20, 30, 40, 50]\n",
    "print(l)\n",
    "print(l[3])\n",
    "print(l[1])\n",
    "print(l[-1])\n",
    "print(l[-2])\n",
    "\n",
    "\n"
   ]
  },
  {
   "cell_type": "code",
   "execution_count": 2,
   "metadata": {},
   "outputs": [
    {
     "output_type": "stream",
     "name": "stdout",
     "text": [
      "[10, 20, 30, 40, 50, 30]\n[10, 15, 20, 30, 40, 50, 30]\nTrue\n2\n3\n"
     ]
    }
   ],
   "source": [
    "#Insert and search  \n",
    "l = [10, 20, 30, 40, 50]\n",
    "l.append(30)\n",
    "print(l)\n",
    "l.insert(1, 15)\n",
    "print(l)\n",
    "print(15 in l)\n",
    "print(l.count(30))\n",
    "print(l.index(30))\n"
   ]
  },
  {
   "cell_type": "code",
   "execution_count": 3,
   "metadata": {},
   "outputs": [
    {
     "output_type": "stream",
     "name": "stdout",
     "text": [
      "[10, 30, 40, 50, 60, 70, 80]\n80\n[10, 30, 40, 50, 60, 70]\n40\n[10, 30, 50, 60, 70]\n[10, 50, 60, 70]\n[60, 70]\n"
     ]
    }
   ],
   "source": [
    "#Removal of items \n",
    "l = [10, 20, 30, 40, 50, 60, 70, 80]\n",
    "l.remove(20) # .remove  only  remove the value.\n",
    "print(l)\n",
    "print(l.pop()) # .pop return the removal item as output\n",
    "print(l)\n",
    "print(l.pop(2))\n",
    "print(l)\n",
    "del l[1]\n",
    "print(l)\n",
    "del l[0:2]\n",
    "print(l)"
   ]
  },
  {
   "cell_type": "code",
   "execution_count": 4,
   "metadata": {},
   "outputs": [
    {
     "output_type": "stream",
     "name": "stdout",
     "text": [
      "50\n10\n120\n[50, 20, 40, 10]\n[10, 20, 40, 50]\n"
     ]
    }
   ],
   "source": [
    "#Some general-purpose \n",
    "l=[10,40,20,50]\n",
    "print(max(l))\n",
    "print(min(l))\n",
    "print(sum(l))\n",
    "l.reverse()\n",
    "print(l)\n",
    "l.sort()\n",
    "print(l)\n"
   ]
  },
  {
   "cell_type": "code",
   "execution_count": 5,
   "metadata": {},
   "outputs": [
    {
     "output_type": "stream",
     "name": "stdout",
     "text": [
      "25.0\n25.0\n"
     ]
    }
   ],
   "source": [
    "#Average or Mean of A List\n",
    "def average(l):\n",
    "    \n",
    "    sum = 0\n",
    "    for x in l:\n",
    "        sum = sum+x\n",
    "        \n",
    "    n = len(l)\n",
    "    return sum/n\n",
    "\n",
    "l = [10,20,30,40]\n",
    "\n",
    "print(average(l))\n",
    "\n",
    "\n",
    "def average(l):\n",
    "    return sum(l)/len(l)\n",
    "\n",
    "print(average(l))"
   ]
  },
  {
   "cell_type": "code",
   "execution_count": 6,
   "metadata": {},
   "outputs": [
    {
     "output_type": "stream",
     "name": "stdout",
     "text": [
      "[10, 12, 16]\n[11]\n"
     ]
    }
   ],
   "source": [
    "#Separate Even and Odd\n",
    "def getEvenOdd(l):\n",
    "    \n",
    "    even = []\n",
    "    odd = []\n",
    "    \n",
    "    for x in l:\n",
    "        if x%2==0:\n",
    "            \n",
    "            even.append(x)\n",
    "        else:\n",
    "            odd.append(x)\n",
    "            \n",
    "    return even,odd\n",
    "\n",
    "l = [10,12,11,16]\n",
    "\n",
    "even,odd = getEvenOdd(l)\n",
    "\n",
    "print(even)\n",
    "\n",
    "print(odd)\n",
    "            "
   ]
  },
  {
   "cell_type": "code",
   "execution_count": 7,
   "metadata": {},
   "outputs": [
    {
     "output_type": "stream",
     "name": "stdout",
     "text": [
      "[8, 3, 7]\n"
     ]
    }
   ],
   "source": [
    "#Get Smaller Elements\n",
    "def getSmaller(l,x):\n",
    "    \n",
    "    res = []\n",
    "    \n",
    "    for e in l:\n",
    "        if e<x:\n",
    "            res.append(e)\n",
    "    \n",
    "    return res\n",
    "    \n",
    "l = [8,100,20,40,3,7]\n",
    "x = 10\n",
    "print(getSmaller(l,x))\n",
    "            "
   ]
  },
  {
   "cell_type": "code",
   "execution_count": 8,
   "metadata": {},
   "outputs": [
    {
     "output_type": "stream",
     "name": "stdout",
     "text": [
      "l[0:5:2] [10, 30, 50]\nl[:4] [10, 20, 30, 40]\nl[2:] [30, 40, 50]\nl[1:4] [20, 30, 40]\nl[4:1:-1] [50, 40, 30]\nl[-1:-6:-1] [50, 40, 30, 20, 10]\nl[::-1] [50, 40, 30, 20, 10]\nl[0:5] [10, 20, 30, 40, 50]\nl[:] [10, 20, 30, 40, 50]\n"
     ]
    }
   ],
   "source": [
    "#List slicing \n",
    "l = [10,20,30,40,50]\n",
    "\n",
    "print(\"l[0:5:2]\",l[0:5:2])     # start:0, stop:5, step:2\n",
    "\n",
    "print(\"l[:4]\",l[:4])        # start: 0, stop:4, step:1\n",
    "\n",
    "print(\"l[2:]\",l[2:])        # start:2,  stop:end of string, step:1\n",
    "\n",
    "print(\"l[1:4]\",l[1:4])\n",
    "\n",
    "print(\"l[4:1:-1]\",l[4:1:-1])    #start:4, stop:1,step:-1\n",
    "\n",
    "print(\"l[-1:-6:-1]\",l[-1:-6:-1])  # start:end,\n",
    "\n",
    "print(\"l[::-1]\",l[::-1])\n",
    "\n",
    "print(\"l[0:5]\",l[0:5])\n",
    "\n",
    "print(\"l[:]\",l[:])\n"
   ]
  },
  {
   "cell_type": "code",
   "execution_count": 9,
   "metadata": {},
   "outputs": [
    {
     "output_type": "stream",
     "name": "stdout",
     "text": [
      "False\nTrue\nTrue\n"
     ]
    }
   ],
   "source": [
    "#Slicing diff b/w list, tuple and string \n",
    "l1 = [10,20,30]\n",
    "\n",
    "l2 = l1[:]\n",
    "\n",
    "t1 = (10,20,30)\n",
    "\n",
    "t2 = t1[:]          # tuple having same element has same id\n",
    "\n",
    "s1 = \"geeks\"\n",
    "s2 = s1[:]          # string of same value have same id\n",
    "\n",
    "print(l1 is l2)\n",
    "\n",
    "print(t1 is t2)\n",
    "\n",
    "print(s1 is s2)"
   ]
  },
  {
   "cell_type": "code",
   "execution_count": 10,
   "metadata": {},
   "outputs": [],
   "source": [
    "#Comprehensions in Python \n"
   ]
  },
  {
   "cell_type": "code",
   "execution_count": 11,
   "metadata": {},
   "outputs": [
    {
     "output_type": "stream",
     "name": "stdout",
     "text": [
      "[0, 2, 4, 6, 8, 10]\n[1, 3, 5, 7, 9]\n"
     ]
    }
   ],
   "source": [
    "#Comprehensions in Python \n",
    "l1 = [x for x in range(11) if x%2==0]\n",
    "\n",
    "print(l1)\n",
    "\n",
    "l2 = [x for x in range(11) if x%2!=0]\n",
    "\n",
    "print(l2)\n"
   ]
  },
  {
   "cell_type": "code",
   "execution_count": 12,
   "metadata": {},
   "outputs": [
    {
     "output_type": "stream",
     "name": "stdout",
     "text": [
      "{10, 4, 20}\n{3, 7}\n{0: 'ID0', 1: 'ID1', 2: 'ID2', 3: 'ID3', 4: 'ID4'}\n{101: 'gfg', 103: 'ide', 102: 'corse'}\n{101: 'gfg', 103: 'ide', 102: 'corse'}\n"
     ]
    }
   ],
   "source": [
    "#Set,dict comprehension \n",
    "l = {10,20,3,4,10,20,7,3}\n",
    "\n",
    "s1 = {x for x in l if x%2==0 }\n",
    "s2 = {x for x in l if x%2!=0 }  # set comprehension\n",
    "\n",
    "print(s1)\n",
    "print(s2)\n",
    "\n",
    "\n",
    "l1 = [1,3,4,2,5]\n",
    "\n",
    "d1 = {x:x**3 for x in l1}\n",
    "\n",
    "d2 = {x:f\"ID{x}\" for x in range(5)} # dictionary comprehension\n",
    "print(d2)\n",
    "\n",
    "\n",
    "l2 = [101,103,102]\n",
    "l3 = ['gfg','ide','corse']\n",
    "\n",
    "d3 = {l2[i]:l3[i] for i in range(len(l2)) }   # dictionary comprehension\n",
    "\n",
    "print(d3)\n",
    "\n",
    "\n",
    "d4 = dict(zip(l2,l3))\n",
    "\n",
    "print(d4)\n",
    "\n",
    "\n",
    "\n",
    "\n",
    "\n"
   ]
  },
  {
   "cell_type": "code",
   "execution_count": 13,
   "metadata": {},
   "outputs": [
    {
     "output_type": "stream",
     "name": "stdout",
     "text": [
      "{'gfg': 101, 'practice': 103, 'ide': 102}\n"
     ]
    }
   ],
   "source": [
    "#Inverting dict \n",
    "d1 = {101:'gfg',103:'practice',102:'ide'}\n",
    "d2 = {v:k for (k,v) in d1.items() }\n",
    "\n",
    "print(d2)"
   ]
  },
  {
   "cell_type": "code",
   "execution_count": 15,
   "metadata": {},
   "outputs": [
    {
     "output_type": "stream",
     "name": "stdout",
     "text": [
      "None\n"
     ]
    }
   ],
   "source": [
    "#Largest Element in a List\n",
    "#O(n2) soln \n",
    "def getMax(l):\n",
    "    for x in l:         # iterate for each element\n",
    "        for y in l:     # iterrate to compare with each element\n",
    "            if y > x:\n",
    "                break\n",
    "        else:           # if loop is exited naturally, no larger element found\n",
    "            return x\n",
    "    return None\n",
    "\n",
    "# O(n2)\n",
    "\n",
    "\n",
    "\n",
    "\n",
    "l = [int(x) for x in input().split()]\n",
    "print(getMax(l))"
   ]
  },
  {
   "cell_type": "code",
   "execution_count": 16,
   "metadata": {},
   "outputs": [
    {
     "output_type": "stream",
     "name": "stdout",
     "text": [
      "None\n"
     ]
    }
   ],
   "source": [
    "#Largest Element in a List\n",
    "#O(n) soln \n",
    "def getMax(l):\n",
    "    if not l:\n",
    "        return None\n",
    "    else:\n",
    "\n",
    "        res = l[0]                  # assume l[0] is the max\n",
    "        for i in range(1, len(l)):  # iterate through index 1 to last\n",
    "            if l[i] > res:           # check whether current element is greater than res\n",
    "                res = l[i]          # if current element is greater than res ,update res to current\n",
    "        return res\n",
    "\n",
    "# O(n)\n",
    "\n",
    "l = [int(x) for x in input().split()]\n",
    "print(getMax(l))"
   ]
  },
  {
   "cell_type": "code",
   "execution_count": 17,
   "metadata": {},
   "outputs": [
    {
     "output_type": "stream",
     "name": "stdout",
     "text": [
      "None\n"
     ]
    }
   ],
   "source": [
    "#Second Largest Element in a list\n",
    "#O(n) Two traversal \n",
    "def getMax(l):\n",
    "    if not l:\n",
    "        return None\n",
    "    else:\n",
    "\n",
    "        res = l[0]                  # assume l[0] is the max\n",
    "        for i in range(1, len(l)):  # iterate through index 1 to last\n",
    "            if l[i] > res:           # check whether current element is greater than res\n",
    "                res = l[i]          # if current element is greater than res ,update res to current\n",
    "        return res\n",
    "    \n",
    "    \n",
    "    \n",
    "\n",
    "def getSecMax(l):\n",
    "    if len(l) <= 1:\n",
    "        return None\n",
    "    lar = getMax(l)\n",
    "    slar = None\n",
    "\n",
    "    for x in l:\n",
    "\n",
    "        if x != lar:\n",
    "            if slar == None:\n",
    "                slar = x\n",
    "            else:\n",
    "                slar = max(x, slar)\n",
    "    return slar\n",
    "\n",
    "l = [int(x) for x in input().split()]\n",
    "print(getSecMax(l))\n",
    "\n"
   ]
  },
  {
   "cell_type": "code",
   "execution_count": 18,
   "metadata": {},
   "outputs": [
    {
     "output_type": "stream",
     "name": "stdout",
     "text": [
      "None\n"
     ]
    }
   ],
   "source": [
    "#Second Largest Element in a list\n",
    "#O(n) single traversal \n",
    "def getSecMax(l):\n",
    "    if len(l) <= 1:\n",
    "        return None\n",
    "    lar = l[0]; slar = None\n",
    "\n",
    "    for x in l[1:]:\n",
    "        if x > lar:         # if current element is greater than lar(largest element)\n",
    "            slar = lar          # update slar to largest\n",
    "            lar = x         # update lar to current element(largest)\n",
    "\n",
    "        elif x != lar:      # if x is less then largest and not equal to lar(largest element)\n",
    "            if slar == None or slar < x:    # if x is greater then second largest\n",
    "                slar = x                    # assign current element is second largest\n",
    "    return slar\n",
    "\n",
    "l = [int(x) for x in input().split()]\n",
    "print(getSecMax(l))\n",
    "\n"
   ]
  },
  {
   "cell_type": "code",
   "execution_count": 19,
   "metadata": {},
   "outputs": [
    {
     "output_type": "stream",
     "name": "stdout",
     "text": [
      "No\n"
     ]
    }
   ],
   "source": [
    "#Check if A list is Sorted\n",
    "def isSorted(l):\n",
    "    i = 1\n",
    "     \n",
    "    while i< len(l):\n",
    "         \n",
    "        if l[i]<l[i-1]:\n",
    "             \n",
    "            return False\n",
    "        i=i+1\n",
    "        \n",
    "    return True\n",
    "    \n",
    "l = [10,20,30,15,40]\n",
    "\n",
    "if isSorted(l):\n",
    "    print(\"Yes\")\n",
    "else:\n",
    "    print(\"No\")"
   ]
  },
  {
   "cell_type": "code",
   "execution_count": 20,
   "metadata": {},
   "outputs": [
    {
     "output_type": "stream",
     "name": "stdout",
     "text": [
      "No\n"
     ]
    }
   ],
   "source": [
    "#method 2\n",
    "def isSorted(l):\n",
    "    l2 = sorted(l)\n",
    "    \n",
    "    if l==l2:\n",
    "        return True\n",
    "    else:\n",
    "        return False\n",
    "\n",
    "    \n",
    "l = [10,20,30,15,40]\n",
    "\n",
    "if isSorted(l):\n",
    "    print(\"Yes\")\n",
    "else:\n",
    "    print(\"No\")\n",
    "    "
   ]
  },
  {
   "cell_type": "code",
   "execution_count": 23,
   "metadata": {},
   "outputs": [
    {
     "output_type": "stream",
     "name": "stdout",
     "text": [
      "2\n"
     ]
    }
   ],
   "source": [
    "#Find the only Odd\n",
    "#Count\n",
    "def findOdd(l):\n",
    "    res = None\n",
    "\n",
    "    for x in l:\n",
    "\n",
    "        count = l.count(x)\n",
    "\n",
    "        if count % 2 != 0:\n",
    "            res = x\n",
    "    return res\n",
    "\n",
    "l = [int(x) for x in input().split(',')]\n",
    "print(findOdd(l))\n"
   ]
  },
  {
   "cell_type": "code",
   "execution_count": 24,
   "metadata": {},
   "outputs": [
    {
     "output_type": "stream",
     "name": "stdout",
     "text": [
      "0\n"
     ]
    }
   ],
   "source": [
    "#method 2\n",
    "#xor\n",
    "def findOdd(l):\n",
    "    res = 0\n",
    "\n",
    "    for x in l:\n",
    "        res = res ^ x\n",
    "\n",
    "    return res\n",
    "\n",
    "l = [int(x) for x in input().split(',')]\n",
    "print(findOdd(l))\n",
    "\n"
   ]
  },
  {
   "cell_type": "code",
   "execution_count": 28,
   "metadata": {},
   "outputs": [
    {
     "output_type": "stream",
     "name": "stdout",
     "text": [
      "[30, 20, 10]\n[30, 20, 10]\n[30, 20, 10]\n"
     ]
    }
   ],
   "source": [
    "#Reverse a List in Python\n",
    "#library/dir\n",
    "l = [10,20,30]\n",
    "l.reverse()     # reverse given list\n",
    "print(l)\n",
    "\n",
    "l = [10,20,30]\n",
    "new_l = list(reversed(l))   # return new reversed list\n",
    "print(new_l)\n",
    "\n",
    "l = [10,20,30]\n",
    "new_l = l[::-1]             # return new reversed list\n",
    "print(new_l)\n",
    "\n",
    "\n",
    "\n",
    "\n"
   ]
  },
  {
   "cell_type": "code",
   "execution_count": 29,
   "metadata": {},
   "outputs": [
    {
     "output_type": "stream",
     "name": "stdout",
     "text": [
      "[4, 2, 1]\n"
     ]
    }
   ],
   "source": [
    "#Own method \n",
    "def reverseList(l):\n",
    "    s = 0\n",
    "    e = len(l) - 1\n",
    "\n",
    "    while s < e:\n",
    "        l[s], l[e] = l[e], l[s] # swapping left element to right and right element to left\n",
    "        s = s + 1\n",
    "        e = e - 1\n",
    "\n",
    "\n",
    "\n",
    "l = [int(x) for x in input().split(',')]\n",
    "reverseList(l)\n",
    "print(l)\n",
    "\n"
   ]
  },
  {
   "cell_type": "code",
   "execution_count": 30,
   "metadata": {},
   "outputs": [
    {
     "output_type": "stream",
     "name": "stdout",
     "text": [
      "[20, 30, 40, 10]\n[20, 30, 40, 10]\n"
     ]
    }
   ],
   "source": [
    "#Left Rotate a List by one \n",
    "#Slice, append/pop \n",
    "l = [10, 20, 30, 40]\n",
    "l = l[1:] + l[0:1]\n",
    "print(l)\n",
    "\n",
    "l = [10, 20, 30, 40]\n",
    "l.append(l.pop(0))\n",
    "\n",
    "print(l)\n",
    "\n",
    "\n",
    "\n",
    "\n",
    "\n"
   ]
  },
  {
   "cell_type": "code",
   "execution_count": 31,
   "metadata": {},
   "outputs": [
    {
     "output_type": "stream",
     "name": "stdout",
     "text": [
      "[20, 30, 40, 10]\n"
     ]
    }
   ],
   "source": [
    "#Own method \n",
    "def rotateByone(l):\n",
    "    n = len(l)\n",
    "    x = l[0]\n",
    "    for i in range(1, n):\n",
    "        l[i - 1] = l[i]\n",
    "\n",
    "    l[n - 1] = x\n",
    "\n",
    "l = [10, 20, 30, 40]\n",
    "rotateByone(l)\n",
    "print(l)\n"
   ]
  },
  {
   "cell_type": "code",
   "execution_count": 32,
   "metadata": {},
   "outputs": [],
   "source": [
    "#Left Rotate by d Places\n"
   ]
  },
  {
   "cell_type": "code",
   "execution_count": 33,
   "metadata": {},
   "outputs": [
    {
     "output_type": "stream",
     "name": "stdout",
     "text": [
      "[30, 40, 50, 10, 20]\n"
     ]
    }
   ],
   "source": [
    "#Direct method using slicing \n",
    "l=[10,20,30,40,50]\n",
    "d=2\n",
    "l=l[d:]+l[:d]\n",
    "print(l)"
   ]
  },
  {
   "cell_type": "code",
   "execution_count": 34,
   "metadata": {},
   "outputs": [
    {
     "output_type": "stream",
     "name": "stdout",
     "text": [
      "[30, 40, 50, 10, 20]\n"
     ]
    }
   ],
   "source": [
    "#To use collection.deque \n",
    "from collections import  deque\n",
    "l=[10,20,30,40,50]\n",
    "d=2\n",
    "\n",
    "dq=deque(l)\n",
    "dq.rotate(-d)\n",
    "l =list(dq)\n",
    "print(l)\n",
    "\n",
    "\n",
    "\n",
    "\n"
   ]
  },
  {
   "cell_type": "code",
   "execution_count": 35,
   "metadata": {},
   "outputs": [
    {
     "output_type": "stream",
     "name": "stdout",
     "text": [
      "[40, 50, 10, 20, 30]\n"
     ]
    }
   ],
   "source": [
    "#Own method 1(pop,  O(n)) \n",
    "def leftRotate(l,d):\n",
    "    for i in range(0,d):\n",
    "        l.append(l.pop(0))\n",
    "\n",
    "l=[10,20,30,40,50]\n",
    "d=3\n",
    "leftRotate(l,d)\n",
    "print(l)\n"
   ]
  },
  {
   "cell_type": "code",
   "execution_count": 36,
   "metadata": {},
   "outputs": [
    {
     "output_type": "stream",
     "name": "stdout",
     "text": [
      "[40, 50, 10, 20, 30]\n"
     ]
    }
   ],
   "source": [
    "#Method2 ,O(n),auxiliary space \n",
    "def reverse(l,b,e):\n",
    "    while b<e:\n",
    "        l[b],l[e]=l[e],l[b]\n",
    "        b=b+1\n",
    "        e=e-1\n",
    "\n",
    "\n",
    "def leftRotate(l,d):\n",
    "    n=len(l)\n",
    "    reverse(l,0,d-1)\n",
    "    reverse(l,d,n-1)\n",
    "    reverse(l,0,n-1)\n",
    "\n",
    "\n",
    "l=[10,20,30,40,50]\n",
    "d=3\n",
    "leftRotate(l, d)\n",
    "print(l)\n",
    "\n"
   ]
  },
  {
   "cell_type": "code",
   "execution_count": null,
   "metadata": {},
   "outputs": [],
   "source": []
  }
 ]
}