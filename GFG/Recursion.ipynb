{
 "metadata": {
  "language_info": {
   "codemirror_mode": {
    "name": "ipython",
    "version": 3
   },
   "file_extension": ".py",
   "mimetype": "text/x-python",
   "name": "python",
   "nbconvert_exporter": "python",
   "pygments_lexer": "ipython3",
   "version": "3.7.3-final"
  },
  "orig_nbformat": 2,
  "kernelspec": {
   "name": "python3",
   "display_name": "Python 3.7.3 64-bit ('base': conda)",
   "metadata": {
    "interpreter": {
     "hash": "755dcdc6c0229edae11176875df8d9e9642fceccc0e87c120336ec3f6690aed2"
    }
   }
  }
 },
 "nbformat": 4,
 "nbformat_minor": 2,
 "cells": [
  {
   "source": [
    "#Recursion"
   ],
   "cell_type": "markdown",
   "metadata": {}
  },
  {
   "cell_type": "code",
   "execution_count": 2,
   "metadata": {},
   "outputs": [
    {
     "output_type": "stream",
     "name": "stdout",
     "text": [
      "Before fun2()\nBefore fun1()\nfun1 called\nAfter fun1()\nAfter fun2()\n"
     ]
    }
   ],
   "source": [
    "#Background\n",
    "def fun1():\n",
    "    print(\"fun1 called\")\n",
    "\n",
    "\n",
    "def fun2():\n",
    "    print(\"Before fun1()\")\n",
    "    fun1()\n",
    "    print(\"After fun1()\")\n",
    "\n",
    "\n",
    "print(\"Before fun2()\")\n",
    "fun2()\n",
    "print(\"After fun2()\")\n"
   ]
  },
  {
   "cell_type": "code",
   "execution_count": 6,
   "metadata": {},
   "outputs": [
    {
     "output_type": "stream",
     "name": "stdout",
     "text": [
      "GFG\nGFG\nGFG\n"
     ]
    }
   ],
   "source": [
    "def fun(n):\n",
    "    if n == 0:\n",
    "        return\n",
    "    print(\"GFG\")\n",
    "    fun(n - 1)\n",
    "\n",
    "\n",
    "fun(3)\n"
   ]
  },
  {
   "cell_type": "code",
   "execution_count": 7,
   "metadata": {},
   "outputs": [
    {
     "output_type": "stream",
     "name": "stdout",
     "text": [
      "3\n2\n1\n1\n2\n3\n"
     ]
    }
   ],
   "source": [
    "#Part 1 Examples\n",
    "def fun(n):\n",
    "    if n == 0:\n",
    "        return\n",
    "    print(n)\n",
    "    fun(n - 1)\n",
    "    print(n)\n",
    "\n",
    "\n",
    "fun(3)\n"
   ]
  },
  {
   "cell_type": "code",
   "execution_count": 9,
   "metadata": {},
   "outputs": [
    {
     "output_type": "stream",
     "name": "stdout",
     "text": [
      "1\n2\n1\n3\n1\n2\n1\n"
     ]
    }
   ],
   "source": [
    "#Part1 Examples\n",
    "def fun(n):\n",
    "    if n == 0:\n",
    "        return\n",
    "    fun(n - 1)\n",
    "    print(n)\n",
    "    fun(n - 1)\n",
    "\n",
    "\n",
    "fun(3)\n"
   ]
  },
  {
   "cell_type": "code",
   "execution_count": 10,
   "metadata": {},
   "outputs": [
    {
     "output_type": "stream",
     "name": "stdout",
     "text": [
      "4\n"
     ]
    }
   ],
   "source": [
    "#Part2 Examples\n",
    "def fun(n):\n",
    "    if n <= 1:\n",
    "        return 0\n",
    "    else:\n",
    "        return 1 + fun(n / 2)\n",
    "\n",
    "\n",
    "fun(16)\n",
    "print(fun(16))\n"
   ]
  },
  {
   "cell_type": "code",
   "execution_count": 11,
   "metadata": {},
   "outputs": [
    {
     "output_type": "stream",
     "name": "stdout",
     "text": [
      "1\n1\n0\n1\n"
     ]
    }
   ],
   "source": [
    "#Part2 Examples\n",
    "#This function is coverting decimal number to binary number\n",
    "def fun(n):\n",
    "    if n == 0:\n",
    "        return\n",
    "    fun(n//2)\n",
    "    print(n % 2)\n",
    "\n",
    "\n",
    "fun(13)\n"
   ]
  },
  {
   "cell_type": "code",
   "execution_count": null,
   "metadata": {},
   "outputs": [],
   "source": []
  }
 ]
}