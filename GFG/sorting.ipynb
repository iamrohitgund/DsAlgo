{
 "metadata": {
  "language_info": {
   "codemirror_mode": {
    "name": "ipython",
    "version": 3
   },
   "file_extension": ".py",
   "mimetype": "text/x-python",
   "name": "python",
   "nbconvert_exporter": "python",
   "pygments_lexer": "ipython3",
   "version": "3.7.3-final"
  },
  "orig_nbformat": 2,
  "kernelspec": {
   "name": "python3",
   "display_name": "Python 3.7.3 64-bit ('anaconda3': virtualenv)",
   "metadata": {
    "interpreter": {
     "hash": "755dcdc6c0229edae11176875df8d9e9642fceccc0e87c120336ec3f6690aed2"
    }
   }
  }
 },
 "nbformat": 4,
 "nbformat_minor": 2,
 "cells": [
  {
   "source": [
    "#Sorting"
   ],
   "cell_type": "markdown",
   "metadata": {}
  },
  {
   "cell_type": "code",
   "execution_count": 7,
   "metadata": {},
   "outputs": [
    {
     "output_type": "stream",
     "name": "stdout",
     "text": [
      "Sorted list --> [5, 8, 10, 20]\n"
     ]
    }
   ],
   "source": [
    "#Bubble Sort -- Complexity O(n^2)\n",
    "\n",
    "def bubbleSort(l):\n",
    "    n = len(l)\n",
    "\n",
    "    for i in range(n-1):\n",
    "        for j in range(n-i-1):\n",
    "            if l[j] > l[j + 1]:\n",
    "                l[j],l[j + 1] = l[j + 1], l[j]\n",
    "\n",
    "l = [10,8,20,5]\n",
    "bubbleSort(l)\n",
    "print(\"Sorted list\",\"-->\",l)\n"
   ]
  },
  {
   "cell_type": "code",
   "execution_count": 8,
   "metadata": {},
   "outputs": [
    {
     "output_type": "stream",
     "name": "stdout",
     "text": [
      "Sorted list is  --> [5, 8, 10, 20]\n"
     ]
    }
   ],
   "source": [
    "def bubbleSort(l):\n",
    "    n = len(l)\n",
    "    for i in range(n-1):\n",
    "        swapped = False\n",
    "        for j in range(n-i-1):\n",
    "            if l[j] > l[j + 1]:\n",
    "                l[j],l[j + 1] = l[j + 1], l[j]\n",
    "                swapped = True\n",
    "        if swapped == False:\n",
    "            return\n",
    "\n",
    "l = [10,8,20,5]\n",
    "bubbleSort(l)\n",
    "\n",
    "print(\"Sorted list is \", \"-->\",l)"
   ]
  },
  {
   "cell_type": "code",
   "execution_count": 9,
   "metadata": {},
   "outputs": [
    {
     "output_type": "stream",
     "name": "stdout",
     "text": [
      "Sorted list is  --> [2, 8, 5, 18, 10, 20]\n"
     ]
    }
   ],
   "source": [
    "#Selection Sort -- O(n^2)\n",
    "\n",
    "def selectionSort(l):\n",
    "    n = len(l)\n",
    "    for i in range(n-1):\n",
    "        min_ind = i\n",
    "        for j in range(i+1,n):\n",
    "            if l[j] < l[min_ind]:\n",
    "                min_ind = j\n",
    "                l[min_ind],l[i] = l[i], l[min_ind]\n",
    "l = [10,5,8,20,2,18]\n",
    "selectionSort(l)\n",
    "print(\"Sorted list is \", \"-->\",l)"
   ]
  },
  {
   "cell_type": "code",
   "execution_count": 20,
   "metadata": {},
   "outputs": [
    {
     "output_type": "stream",
     "name": "stdout",
     "text": [
      "Sorted array is --> [5, 10, 20, 30, 40, 60]\n"
     ]
    }
   ],
   "source": [
    "#insertion sort .. worst case O(n^2) and best case when list is already sorted O(n) \n",
    "\n",
    "def insertionSort(l):\n",
    "    for i in range(1,len(l)):\n",
    "        x = l[i] \n",
    "        j = i - 1\n",
    "        while j >= 0 and x< l[j]:\n",
    "            l[j+1] = l[j]\n",
    "            j = j - 1\n",
    "        l[j + 1] = x #insert the element at j + 1 place after loop end\n",
    "l = [20,5,40,60,10,30]\n",
    "insertionSort(l)\n",
    "print(\"Sorted array is\", \"-->\",l)\n"
   ]
  },
  {
   "cell_type": "code",
   "execution_count": null,
   "metadata": {},
   "outputs": [],
   "source": []
  }
 ]
}