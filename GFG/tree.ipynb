{
 "metadata": {
  "language_info": {
   "codemirror_mode": {
    "name": "ipython",
    "version": 3
   },
   "file_extension": ".py",
   "mimetype": "text/x-python",
   "name": "python",
   "nbconvert_exporter": "python",
   "pygments_lexer": "ipython3",
   "version": "3.9.2-final"
  },
  "orig_nbformat": 2,
  "kernelspec": {
   "name": "python392jvsc74a57bd07812ea015bdcee6f23a998adcdd2ef97c151c0c241b7b7070987d9313e41299d",
   "display_name": "Python 3.9.2 64-bit"
  },
  "metadata": {
   "interpreter": {
    "hash": "7812ea015bdcee6f23a998adcdd2ef97c151c0c241b7b7070987d9313e41299d"
   }
  }
 },
 "nbformat": 4,
 "nbformat_minor": 2,
 "cells": [
  {
   "cell_type": "code",
   "execution_count": 1,
   "metadata": {},
   "outputs": [],
   "source": [
    "#tree\n",
    "#BFS --> Level order , Shortest path gaurantee\n",
    "#DFS --> inorder(left,root,right), #preorder (root,left,right), #postorder(left,right,root)\n"
   ]
  },
  {
   "cell_type": "code",
   "execution_count": 2,
   "metadata": {},
   "outputs": [],
   "source": [
    "#Binary Search Tree\n",
    "class Node:\n",
    "    def __init__(self, k):\n",
    "        self.left = None\n",
    "        self.right = None\n",
    "        self.key = k\n",
    "\n",
    "\n",
    "# Driver Code\n",
    "\n",
    "root = Node(10)\n",
    "root.left = Node(20)\n",
    "root.right = Node(30)\n",
    "root.left.right = Node(40)\n"
   ]
  },
  {
   "cell_type": "code",
   "execution_count": 3,
   "metadata": {},
   "outputs": [
    {
     "output_type": "stream",
     "name": "stdout",
     "text": [
      "20\n10\n40\n30\n50\n"
     ]
    }
   ],
   "source": [
    "#Inorder Traversal in Python \n",
    "class Node:\n",
    "    def __init__(self, k):\n",
    "        self.left = None\n",
    "        self.right = None\n",
    "        self.key = k\n",
    "\n",
    "\n",
    "def inorder(root):\n",
    "    if root != None:\n",
    "        inorder(root.left)\n",
    "        print(root.key)\n",
    "        inorder(root.right)\n",
    "\n",
    "\n",
    "# Driver Code\n",
    "\n",
    "root = Node(10)\n",
    "root.left = Node(20)\n",
    "root.right = Node(30)\n",
    "root.right.left = Node(40)\n",
    "root.right.right = Node(50)\n",
    "\n",
    "inorder(root)\n"
   ]
  },
  {
   "cell_type": "code",
   "execution_count": 4,
   "metadata": {},
   "outputs": [
    {
     "output_type": "stream",
     "name": "stdout",
     "text": [
      "10\n20\n30\n40\n50\n"
     ]
    }
   ],
   "source": [
    "#Preorder Traversal in Python \n",
    "#Time complexity O(n) and Space also same as constant time \n",
    "class Node:\n",
    "    def __init__(self,k):\n",
    "        self.key = k\n",
    "        self.left = None\n",
    "        self.right = None\n",
    "\n",
    "def preorder(root):\n",
    "    if root != None:\n",
    "        print(root.key)\n",
    "        preorder(root.left)\n",
    "        preorder(root.right)\n",
    "\n",
    "#driver code\n",
    "root = Node(10)\n",
    "root.left = Node(20)\n",
    "root.right = Node(30)\n",
    "root.right.left = Node(40)\n",
    "root.right.right = Node(50)\n",
    "preorder(root)\n"
   ]
  },
  {
   "cell_type": "code",
   "execution_count": null,
   "metadata": {},
   "outputs": [],
   "source": []
  }
 ]
}