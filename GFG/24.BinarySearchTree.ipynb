{
 "metadata": {
  "language_info": {
   "codemirror_mode": {
    "name": "ipython",
    "version": 3
   },
   "file_extension": ".py",
   "mimetype": "text/x-python",
   "name": "python",
   "nbconvert_exporter": "python",
   "pygments_lexer": "ipython3",
   "version": "3.9.2-final"
  },
  "orig_nbformat": 2,
  "kernelspec": {
   "name": "python392jvsc74a57bd07812ea015bdcee6f23a998adcdd2ef97c151c0c241b7b7070987d9313e41299d",
   "display_name": "Python 3.9.2 64-bit"
  },
  "metadata": {
   "interpreter": {
    "hash": "7812ea015bdcee6f23a998adcdd2ef97c151c0c241b7b7070987d9313e41299d"
   }
  }
 },
 "nbformat": 4,
 "nbformat_minor": 2,
 "cells": [
  {
   "cell_type": "code",
   "execution_count": 1,
   "metadata": {},
   "outputs": [],
   "source": [
    "#BST"
   ]
  },
  {
   "cell_type": "code",
   "execution_count": 5,
   "metadata": {},
   "outputs": [],
   "source": [
    "#Search in Binary Search Tree\n",
    "#Recursion\n",
    "def searchBst(root, key):\n",
    "    if root is None:\n",
    "        return False\n",
    "\n",
    "    elif root.key == key:\n",
    "        return True\n",
    "    elif root.key > key:\n",
    "        return searchBst(root.left, key)\n",
    "    else:\n",
    "        return searchBst(root.right, key)\n",
    "\n",
    "#iterative\n",
    "def searchBst(root, key):\n",
    "    while root is not None:\n",
    "\n",
    "        if root.key == key:\n",
    "            return True\n",
    "        elif root.key > key:\n",
    "            return searchBst(root.left, key)\n",
    "        else:\n",
    "            return searchBst(root.right, key)\n",
    "\n",
    "    return False\n",
    "\n"
   ]
  },
  {
   "cell_type": "code",
   "execution_count": 11,
   "metadata": {},
   "outputs": [],
   "source": [
    "#BST insert in Python\n",
    "#Recursion\n",
    "\n",
    "def insert(root,key):\n",
    "    if root == None:\n",
    "        return Node(key)\n",
    "    elif root.key == key:\n",
    "        return root\n",
    "    elif root.key > key:\n",
    "        root.left = insert(root.left,key)\n",
    "    else:\n",
    "        root.right = insert(root.right, key)\n",
    "    return root\n",
    "#driver code\n",
    "root = None\n",
    "root = insert(root,10)\n",
    "root = insert(root,20)\n",
    "root = insert(root,5)\n",
    "\n",
    "\n"
   ]
  },
  {
   "cell_type": "code",
   "execution_count": 4,
   "metadata": {},
   "outputs": [],
   "source": [
    "#iterative insert\n",
    "class Node:\n",
    "    def __init__(self, key):\n",
    "        self.left = None\n",
    "        self.key = key\n",
    "        self.right = None\n",
    "\n",
    "\n",
    "def insert(root, key):\n",
    "    parent = None\n",
    "    curr = root\n",
    "\n",
    "    while curr != None:\n",
    "        parent = curr\n",
    "\n",
    "        if curr.key == key:\n",
    "            return root\n",
    "        elif curr.key < key:\n",
    "            curr = curr.left\n",
    "        else:\n",
    "            curr = curr.right\n",
    "\n",
    "    if parent == None:\n",
    "        return Node(key)\n",
    "\n",
    "    if parent.key > key:\n",
    "        parent.left = Node(key)\n",
    "    else:\n",
    "        parent.right = Node(key)\n",
    "\n",
    "    return root\n"
   ]
  },
  {
   "cell_type": "code",
   "execution_count": 12,
   "metadata": {},
   "outputs": [],
   "source": [
    "#BST Delete\n",
    "class Node:\n",
    "    def __init__(self, key):\n",
    "        self.left = None\n",
    "        self.key = key\n",
    "        self.right = None\n",
    "\n",
    "\n",
    "\n",
    "def getSucc(curr, key):\n",
    "    while curr.left != None:\n",
    "        curr = curr.left\n",
    "\n",
    "    return curr.key\n",
    "\n",
    "\n",
    "def deleteNode(root, key):\n",
    "    if root == None:\n",
    "        return\n",
    "\n",
    "    if root.key > key:\n",
    "        root.left = deleteNode(root.left, key)\n",
    "\n",
    "    if root.key < key:\n",
    "        root.right = deleteNode(root.right, key)\n",
    "\n",
    "    else:\n",
    "        if root.left == None:\n",
    "            return root.right\n",
    "        elif root.right == None:\n",
    "            return root.left\n",
    "        else:\n",
    "            succ = getSucc(root.right, key)\n",
    "            root.key = succ\n",
    "            root.right = deleteNode(root.right, succ)\n",
    "\n",
    "    return root"
   ]
  },
  {
   "cell_type": "code",
   "execution_count": null,
   "metadata": {},
   "outputs": [],
   "source": []
  }
 ]
}