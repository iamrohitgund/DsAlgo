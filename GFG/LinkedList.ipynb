{
 "metadata": {
  "language_info": {
   "codemirror_mode": {
    "name": "ipython",
    "version": 3
   },
   "file_extension": ".py",
   "mimetype": "text/x-python",
   "name": "python",
   "nbconvert_exporter": "python",
   "pygments_lexer": "ipython3",
   "version": "3.7.3-final"
  },
  "orig_nbformat": 2,
  "kernelspec": {
   "name": "python3",
   "display_name": "Python 3.7.3 64-bit ('base': conda)",
   "metadata": {
    "interpreter": {
     "hash": "755dcdc6c0229edae11176875df8d9e9642fceccc0e87c120336ec3f6690aed2"
    }
   }
  }
 },
 "nbformat": 4,
 "nbformat_minor": 2,
 "cells": [
  {
   "cell_type": "code",
   "execution_count": 1,
   "metadata": {},
   "outputs": [
    {
     "output_type": "stream",
     "name": "stdout",
     "text": [
      "10\n20\n30\n"
     ]
    }
   ],
   "source": [
    "#LinkedList\n",
    "class Node:\n",
    "    def __init__(self,k):\n",
    "        self.key= k\n",
    "        self.next=None\n",
    "\n",
    "temp1 = Node(10)\n",
    "temp2 = Node(20)\n",
    "temp3 = Node(30)\n",
    "\n",
    "temp1.next = temp2\n",
    "temp2.next = temp3\n",
    "\n",
    "head = temp1\n",
    "print(head.key)\n",
    "print(head.next.key)\n",
    "print(head.next.next.key)\n"
   ]
  },
  {
   "cell_type": "code",
   "execution_count": null,
   "metadata": {},
   "outputs": [],
   "source": [
    "No code Sunday -- Django Practice \n",
    "No code Monday -- Django Project Practice\n",
    "No code Tue -- Applications and Link List "
   ]
  }
 ]
}