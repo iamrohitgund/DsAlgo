{
 "metadata": {
  "language_info": {
   "codemirror_mode": {
    "name": "ipython",
    "version": 3
   },
   "file_extension": ".py",
   "mimetype": "text/x-python",
   "name": "python",
   "nbconvert_exporter": "python",
   "pygments_lexer": "ipython3",
   "version": "3.7.3"
  },
  "orig_nbformat": 2,
  "kernelspec": {
   "name": "python3",
   "display_name": "Python 3.7.3 64-bit ('base': conda)",
   "metadata": {
    "interpreter": {
     "hash": "755dcdc6c0229edae11176875df8d9e9642fceccc0e87c120336ec3f6690aed2"
    }
   }
  }
 },
 "nbformat": 4,
 "nbformat_minor": 2,
 "cells": [
  {
   "source": [
    "# Set in Python\n",
    "- only distinct elements\n",
    "- uordered\n",
    "- no indexing\n",
    "- union, intersection, set difference, etc. are fast\n",
    "- uses hashing internally\n"
   ],
   "cell_type": "markdown",
   "metadata": {}
  },
  {
   "cell_type": "code",
   "execution_count": 2,
   "metadata": {},
   "outputs": [
    {
     "output_type": "stream",
     "name": "stdout",
     "text": [
      "{10, 20, 30}\n{40, 20, 30}\nexpected type set <class 'dict'>\n<class 'set'>\nset()\n"
     ]
    }
   ],
   "source": [
    "s1 = {10, 20, 30}\n",
    "\n",
    "print(s1)\n",
    "\n",
    "s2 = set([20, 30, 40])\n",
    "\n",
    "print(s2)\n",
    "\n",
    "s3 = {}\n",
    "\n",
    "print('expected type set',type(s3))\n",
    "\n",
    "s4 = set()\n",
    "\n",
    "print(type(s4))\n",
    "\n",
    "print(s4)\n"
   ]
  },
  {
   "source": [
    "#insertion"
   ],
   "cell_type": "markdown",
   "metadata": {}
  },
  {
   "cell_type": "code",
   "execution_count": 3,
   "metadata": {},
   "outputs": [
    {
     "output_type": "stream",
     "name": "stdout",
     "text": [
      "{10, 20, 30}\n{10, 20, 30}\n{40, 10, 50, 20, 30}\n{70, 40, 10, 80, 50, 20, 90, 60, 30}\n"
     ]
    }
   ],
   "source": [
    "s = {10, 20}\n",
    "\n",
    "s.add(30)\n",
    "\n",
    "print(s)\n",
    "\n",
    "s.add(30)  # adding duplicate items\n",
    "print(s)\n",
    "\n",
    "s.update([40, 50])\n",
    "\n",
    "print(s)\n",
    "\n",
    "s.update([60, 70], [80, 90])  # inserting multiple list\n",
    "\n",
    "print(s)\n"
   ]
  },
  {
   "source": [
    "#deletion"
   ],
   "cell_type": "markdown",
   "metadata": {}
  },
  {
   "cell_type": "code",
   "execution_count": 4,
   "metadata": {},
   "outputs": [
    {
     "output_type": "stream",
     "name": "stdout",
     "text": [
      "{40, 10, 20}\n{40, 10}\nset()\n"
     ]
    }
   ],
   "source": [
    "s = {10, 30, 20, 40}\n",
    "\n",
    "s.discard(30)\n",
    "\n",
    "print(s)\n",
    "\n",
    "s.remove(20)\n",
    "\n",
    "print(s)\n",
    "\n",
    "s.clear()\n",
    "\n",
    "print(s)\n",
    "\n",
    "s.add(50)\n",
    "\n",
    "del s\n"
   ]
  },
  {
   "cell_type": "code",
   "execution_count": null,
   "metadata": {},
   "outputs": [],
   "source": []
  }
 ]
}